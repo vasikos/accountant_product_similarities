{
 "cells": [
  {
   "cell_type": "code",
   "execution_count": null,
   "id": "1d17c6c4",
   "metadata": {
    "cellId": "ckdpyoeozynm4fwpcc61o"
   },
   "outputs": [],
   "source": [
    "%pip install openpyxl"
   ]
  },
  {
   "cell_type": "code",
   "execution_count": 1,
   "id": "5fadb698",
   "metadata": {
    "cellId": "dcdzg83lblijx9ll6du6p"
   },
   "outputs": [],
   "source": [
    "import pandas as pd"
   ]
  },
  {
   "cell_type": "code",
   "execution_count": 68,
   "id": "c74414d4",
   "metadata": {
    "cellId": "c72wuq9rx8s6f37rh1c6s"
   },
   "outputs": [
    {
     "name": "stdout",
     "output_type": "stream",
     "text": [
      "Defaulting to user installation because normal site-packages is not writeable\n",
      "Requirement already satisfied: pandas in /usr/local/lib/python3.8/dist-packages (0.25.3)\n",
      "Collecting pandas\n",
      "  Downloading pandas-2.0.3-cp38-cp38-manylinux_2_17_x86_64.manylinux2014_x86_64.whl (12.4 MB)\n",
      "     |████████████████████████████████| 12.4 MB 2.7 MB/s            \n",
      "\u001b[?25hRequirement already satisfied: numpy>=1.20.3 in /home/jupyter/.local/lib/python3.8/site-packages (from pandas) (1.24.4)\n",
      "Requirement already satisfied: pytz>=2020.1 in /usr/local/lib/python3.8/dist-packages (from pandas) (2021.3)\n",
      "Requirement already satisfied: python-dateutil>=2.8.2 in /kernel/lib/python3.8/site-packages (from pandas) (2.8.2)\n",
      "Collecting tzdata>=2022.1\n",
      "  Downloading tzdata-2023.3-py2.py3-none-any.whl (341 kB)\n",
      "     |████████████████████████████████| 341 kB 93.5 MB/s            \n",
      "\u001b[?25hRequirement already satisfied: six>=1.5 in /kernel/lib/python3.8/site-packages (from python-dateutil>=2.8.2->pandas) (1.16.0)\n",
      "Installing collected packages: tzdata, pandas\n",
      "Successfully installed pandas-2.0.3 tzdata-2023.3\n",
      "\u001b[33mWARNING: You are using pip version 21.3.1; however, version 23.2.1 is available.\n",
      "You should consider upgrading via the '/usr/local/bin/python3 -m pip install --upgrade pip' command.\u001b[0m\n"
     ]
    }
   ],
   "source": []
  },
  {
   "cell_type": "code",
   "execution_count": 2,
   "id": "6af3dd44",
   "metadata": {
    "cellId": "10mesd9f7q0hb9sv1gi7k2t"
   },
   "outputs": [],
   "source": [
    "train = pd.read_excel('train.xlsx', engine='openpyxl')"
   ]
  },
  {
   "cell_type": "code",
   "execution_count": 3,
   "id": "af7a6094",
   "metadata": {
    "cellId": "umef1ldzzdw7gakly88hr"
   },
   "outputs": [
    {
     "data": {
      "text/plain": [
       "1-Добавить/2-Обновить                2\n",
       "№ п/п                             9255\n",
       "№ строки основного соглашения        0\n",
       "Код позиции                      27019\n",
       "Описание позиции                 25988\n",
       "ЕИ                                  18\n",
       "Тип оборудования CPE                19\n",
       "Позиция поставщика               29205\n",
       "ЕИ поставщика                       17\n",
       "dtype: int64"
      ]
     },
     "execution_count": 3,
     "metadata": {},
     "output_type": "execute_result"
    }
   ],
   "source": [
    "train.nunique()"
   ]
  },
  {
   "cell_type": "code",
   "execution_count": 10,
   "id": "3d69d1f4",
   "metadata": {
    "cellId": "drt77krgxphanke9mqwkj"
   },
   "outputs": [
    {
     "data": {
      "text/plain": [
       "code             0.000910\n",
       "description      0.057823\n",
       "supplier_name    0.207475\n",
       "dtype: float64"
      ]
     },
     "execution_count": 10,
     "metadata": {},
     "output_type": "execute_result"
    }
   ],
   "source": [
    "train.isna().mean()"
   ]
  },
  {
   "cell_type": "code",
   "execution_count": 5,
   "id": "9c28556b",
   "metadata": {
    "cellId": "gzic5t6x53noer027amj5n"
   },
   "outputs": [],
   "source": [
    "train.drop(['1-Добавить/2-Обновить', '№ п/п', '№ строки основного соглашения'], axis=1, inplace=True)"
   ]
  },
  {
   "cell_type": "code",
   "execution_count": 6,
   "id": "719245d6",
   "metadata": {
    "cellId": "7kde7wovpkhi2gpdnhn6m"
   },
   "outputs": [],
   "source": [
    "train.drop(['ЕИ', 'Тип оборудования CPE', 'ЕИ поставщика'], axis=1, inplace=True)"
   ]
  },
  {
   "cell_type": "code",
   "execution_count": 7,
   "id": "90f37094",
   "metadata": {
    "cellId": "bslqjmnmszg1eh3jowaw"
   },
   "outputs": [],
   "source": [
    "train.columns = ['code', 'description', 'supplier_name']"
   ]
  },
  {
   "cell_type": "code",
   "execution_count": 11,
   "id": "58eda771",
   "metadata": {
    "cellId": "9np7wugomfvzbn2thmrbwo"
   },
   "outputs": [
    {
     "data": {
      "text/plain": [
       "code             0.000910\n",
       "description      0.057823\n",
       "supplier_name    0.207475\n",
       "dtype: float64"
      ]
     },
     "execution_count": 11,
     "metadata": {},
     "output_type": "execute_result"
    }
   ],
   "source": [
    "train.isna().mean()"
   ]
  },
  {
   "cell_type": "code",
   "execution_count": 14,
   "id": "60e9f515",
   "metadata": {
    "cellId": "ctn2qkbohts9tym3zj316v"
   },
   "outputs": [],
   "source": [
    "train.to_csv('train.csv', sep='\\t')"
   ]
  },
  {
   "cell_type": "code",
   "execution_count": 15,
   "id": "128dd7ff",
   "metadata": {
    "cellId": "uceddnj9v2orentouvgtq"
   },
   "outputs": [
    {
     "name": "stdout",
     "output_type": "stream",
     "text": [
      "total 679M\n",
      "drwxr-xr-x 1 jupyter jupyter  446 Aug 10 06:11 .\n",
      "drwxrwxr-x 1 jupyter jupyter   44 Aug  3 08:07 ..\n",
      "drwxr-xr-x 1 jupyter jupyter  166 Aug 10 05:59 .ipynb_checkpoints\n",
      "-rw-r--r-- 1 jupyter root    7.9K Aug 10 06:11 0_load_data.ipynb\n",
      "-rw-r--r-- 1 jupyter root     35K Aug 10 05:59 1_raw_sbert.ipynb\n",
      "-rw-r--r-- 1 jupyter root     17K Aug 10 06:05 2_fasttext.ipynb\n",
      "-rw-r--r-- 1 jupyter jupyter 3.1M Aug  3 08:15 description.xlsx\n",
      "-rw-r--r-- 1 jupyter jupyter    1 Aug  6 12:32 embs_ref.dump\n",
      "-rw-r--r-- 1 jupyter jupyter  21M Aug  6 12:39 ref_1.parquet\n",
      "-rw-r--r-- 1 jupyter jupyter 431M Aug  6 12:52 ref_embeddings.pt\n",
      "-rw-r--r-- 1 jupyter jupyter  21M Aug  6 10:30 reference.parquet\n",
      "-rw-r--r-- 1 jupyter jupyter 112M Aug  3 08:20 reference.xlsx\n",
      "-rw-r--r-- 1 jupyter jupyter  62M Aug  6 12:57 supp_embeddings.pt\n",
      "-rw-r--r-- 1 jupyter jupyter  13M Aug 10 06:11 train.csv\n",
      "-rw-r--r-- 1 jupyter jupyter  13M Aug 10 06:11 train.parquet\n",
      "-rw-r--r-- 1 jupyter jupyter 3.3M Aug  3 08:15 train.xlsx\n",
      "-rw-r--r-- 1 jupyter jupyter 2.0M Aug  6 12:42 train_1.parquet\n"
     ]
    }
   ],
   "source": []
  },
  {
   "cell_type": "code",
   "execution_count": 16,
   "id": "8776e489",
   "metadata": {
    "cellId": "cd9yo3r6y8ohj0ey33kv"
   },
   "outputs": [
    {
     "name": "stderr",
     "output_type": "stream",
     "text": [
      "/home/jupyter/.local/lib/python3.8/site-packages/openpyxl/worksheet/header_footer.py:48: UserWarning: Cannot parse header or footer so it will be ignored\n",
      "  warn(\"\"\"Cannot parse header or footer so it will be ignored\"\"\")\n",
      "/home/jupyter/.local/lib/python3.8/site-packages/openpyxl/worksheet/header_footer.py:48: UserWarning: Cannot parse header or footer so it will be ignored\n",
      "  warn(\"\"\"Cannot parse header or footer so it will be ignored\"\"\")\n"
     ]
    }
   ],
   "source": [
    "reference = pd.read_excel('reference.xlsx', sheet_name='ЕСНП с доп. атрибутами', engine='openpyxl', skiprows=2)"
   ]
  },
  {
   "cell_type": "code",
   "execution_count": 17,
   "id": "293cced5",
   "metadata": {
    "cellId": "3eusptiatov3kxghbjf6e"
   },
   "outputs": [],
   "source": [
    "col_map = {\n",
    "    'Код группы': 'group_code',\n",
    "    'Описание группы': 'group_desc',\n",
    "    'Код подгруппы': 'subgroup_code', \n",
    "    'Описание подгруппы': 'subgroup_desc', \n",
    "    'Базовое наименование': 'base_code',\n",
    "    'Описание Базового наименования': 'base_code_desc', \n",
    "    'Код позиции': 'code',\n",
    "    'Наименование позиции': 'description',\n",
    "    'Длинное наименование позиции': 'long_description'\n",
    "}"
   ]
  },
  {
   "cell_type": "code",
   "execution_count": 18,
   "id": "61c761aa",
   "metadata": {
    "cellId": "uc18hqtqlvhaa03ef2ef0r"
   },
   "outputs": [
    {
     "data": {
      "text/plain": [
       "['group_code',\n",
       " 'group_desc',\n",
       " 'subgroup_code',\n",
       " 'subgroup_desc',\n",
       " 'base_code',\n",
       " 'base_code_desc',\n",
       " 'code',\n",
       " 'description',\n",
       " 'long_description']"
      ]
     },
     "execution_count": 18,
     "metadata": {},
     "output_type": "execute_result"
    }
   ],
   "source": [
    "list(col_map.values())"
   ]
  },
  {
   "cell_type": "code",
   "execution_count": 19,
   "id": "b4d84fcf",
   "metadata": {
    "cellId": "ss9ndh7ky19kef6tf6ri7"
   },
   "outputs": [],
   "source": [
    "reference.rename(columns=col_map)[col_map.values()].to_csv('reference.csv')"
   ]
  },
  {
   "cell_type": "code",
   "execution_count": 21,
   "id": "83bdcfac",
   "metadata": {
    "cellId": "3wjj5p70jrjm2c8910b6zs"
   },
   "outputs": [
    {
     "name": "stdout",
     "output_type": "stream",
     "text": [
      "total 875M\n",
      "drwxr-xr-x 1 jupyter jupyter  472 Aug 10 06:17 .\n",
      "drwxrwxr-x 1 jupyter jupyter   44 Aug  3 08:07 ..\n",
      "drwxr-xr-x 1 jupyter jupyter  166 Aug 10 05:59 .ipynb_checkpoints\n",
      "-rw-r--r-- 1 jupyter root    7.9K Aug 10 06:17 0_load_data.ipynb\n",
      "-rw-r--r-- 1 jupyter root     35K Aug 10 05:59 1_raw_sbert.ipynb\n",
      "-rw-r--r-- 1 jupyter root     17K Aug 10 06:05 2_fasttext.ipynb\n",
      "-rw-r--r-- 1 jupyter jupyter 3.1M Aug  3 08:15 description.xlsx\n",
      "-rw-r--r-- 1 jupyter jupyter    1 Aug  6 12:32 embs_ref.dump\n",
      "-rw-r--r-- 1 jupyter jupyter  21M Aug  6 12:39 ref_1.parquet\n",
      "-rw-r--r-- 1 jupyter jupyter 431M Aug  6 12:52 ref_embeddings.pt\n",
      "-rw-r--r-- 1 jupyter jupyter 197M Aug 10 06:16 reference.csv\n",
      "-rw-r--r-- 1 jupyter jupyter  21M Aug  6 10:30 reference.parquet\n",
      "-rw-r--r-- 1 jupyter jupyter 112M Aug  3 08:20 reference.xlsx\n",
      "-rw-r--r-- 1 jupyter jupyter  62M Aug  6 12:57 supp_embeddings.pt\n",
      "-rw-r--r-- 1 jupyter jupyter  13M Aug 10 06:11 train.csv\n",
      "-rw-r--r-- 1 jupyter jupyter  13M Aug 10 06:11 train.parquet\n",
      "-rw-r--r-- 1 jupyter jupyter 3.3M Aug  3 08:15 train.xlsx\n",
      "-rw-r--r-- 1 jupyter jupyter 2.0M Aug  6 12:42 train_1.parquet\n"
     ]
    }
   ],
   "source": [
    "!ls -lah"
   ]
  },
  {
   "cell_type": "code",
   "execution_count": 8,
   "id": "ee393191",
   "metadata": {
    "cellId": "4suyulutkr9cw7qvzqbaxv"
   },
   "outputs": [],
   "source": []
  },
  {
   "cell_type": "code",
   "execution_count": 9,
   "id": "a083381b",
   "metadata": {
    "cellId": "0cm51m56mfqmo7wldeg392"
   },
   "outputs": [
    {
     "data": {
      "text/plain": [
       "'1.24.4'"
      ]
     },
     "execution_count": 9,
     "metadata": {},
     "output_type": "execute_result"
    }
   ],
   "source": []
  },
  {
   "cell_type": "code",
   "execution_count": 25,
   "id": "d43d9823",
   "metadata": {
    "cellId": "vdyevk762uj2kpfrad2id2"
   },
   "outputs": [],
   "source": []
  },
  {
   "cell_type": "code",
   "execution_count": 28,
   "id": "cf6ac18a",
   "metadata": {
    "cellId": "ieml983zmohllbv3mpuxcb"
   },
   "outputs": [
    {
     "data": {
      "text/plain": [
       "5534"
      ]
     },
     "execution_count": 28,
     "metadata": {},
     "output_type": "execute_result"
    }
   ],
   "source": []
  },
  {
   "cell_type": "code",
   "execution_count": null,
   "id": "8e4359e9",
   "metadata": {
    "cellId": "z662l7ebpchkr65wep2t6o"
   },
   "outputs": [],
   "source": []
  }
 ],
 "metadata": {
  "language_info": {
   "codemirror_mode": {
    "name": "ipython",
    "version": 3
   },
   "file_extension": ".py",
   "mimetype": "text/x-python",
   "name": "python",
   "nbconvert_exporter": "python",
   "pygments_lexer": "ipython3",
   "version": "3.7.7"
  },
  "notebookId": "2cdacf02-70a8-443b-ac49-37d8913b4166",
  "notebookPath": "0_load_data.ipynb"
 },
 "nbformat": 4,
 "nbformat_minor": 5
}
