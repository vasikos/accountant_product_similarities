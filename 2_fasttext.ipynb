{
 "cells": [
  {
   "cell_type": "code",
   "execution_count": 10,
   "id": "f8ee6ba5",
   "metadata": {
    "cellId": "p0040wd4f9aipwh86f2ls"
   },
   "outputs": [],
   "source": [
    "# %pip install --upgrade numpy gensim"
   ]
  },
  {
   "cell_type": "code",
   "execution_count": 121,
   "id": "2d5a14c1",
   "metadata": {
    "cellId": "yfbop7qimfaizu1e1o3kgr"
   },
   "outputs": [],
   "source": [
    "import pandas as pd\n",
    "import numpy as np\n",
    "\n",
    "import re\n",
    "\n",
    "import faiss\n",
    "from gensim.models.fasttext import FastText "
   ]
  },
  {
   "cell_type": "code",
   "execution_count": 116,
   "id": "1e2df7b0",
   "metadata": {
    "cellId": "mgx866b5z1l4oz9u14v6"
   },
   "outputs": [
    {
     "data": {
      "text/html": [
       "<div>\n",
       "<style scoped>\n",
       "    .dataframe tbody tr th:only-of-type {\n",
       "        vertical-align: middle;\n",
       "    }\n",
       "\n",
       "    .dataframe tbody tr th {\n",
       "        vertical-align: top;\n",
       "    }\n",
       "\n",
       "    .dataframe thead th {\n",
       "        text-align: right;\n",
       "    }\n",
       "</style>\n",
       "<table border=\"1\" class=\"dataframe\">\n",
       "  <thead>\n",
       "    <tr style=\"text-align: right;\">\n",
       "      <th></th>\n",
       "      <th>code</th>\n",
       "      <th>description</th>\n",
       "      <th>supplier_name</th>\n",
       "    </tr>\n",
       "  </thead>\n",
       "  <tbody>\n",
       "    <tr>\n",
       "      <th>0</th>\n",
       "      <td>065.8000.3296</td>\n",
       "      <td>Телевизор LED LG 43US662H Direct LED 43\"</td>\n",
       "      <td>Телевизор 43US662H</td>\n",
       "    </tr>\n",
       "    <tr>\n",
       "      <th>1</th>\n",
       "      <td>065.8000.3297</td>\n",
       "      <td>Телевизор LED LG 50US662H 50\"</td>\n",
       "      <td>Телевизор 50US662H</td>\n",
       "    </tr>\n",
       "    <tr>\n",
       "      <th>2</th>\n",
       "      <td>066.5602.2128</td>\n",
       "      <td>Коммутатор управляемый Eltex MES2348B RS-232, ...</td>\n",
       "      <td>MES2348B_AC Ethernet-коммутатор MES2348B, 48 п...</td>\n",
       "    </tr>\n",
       "    <tr>\n",
       "      <th>3</th>\n",
       "      <td>035.7800.H271</td>\n",
       "      <td>Кабель прямого соединения активный 1м SFP+ - S...</td>\n",
       "      <td>FH-DP1T30SS01 SFP+ Direct attach cable, 10G, 1m</td>\n",
       "    </tr>\n",
       "    <tr>\n",
       "      <th>4</th>\n",
       "      <td>066.5602.2127</td>\n",
       "      <td>Коммутатор управляемый Eltex MES2324B RS-232, ...</td>\n",
       "      <td>MES2324B_AC Ethernet-коммутатор MES2324B, 24 п...</td>\n",
       "    </tr>\n",
       "    <tr>\n",
       "      <th>...</th>\n",
       "      <td>...</td>\n",
       "      <td>...</td>\n",
       "      <td>...</td>\n",
       "    </tr>\n",
       "    <tr>\n",
       "      <th>42096</th>\n",
       "      <td>045.9000.G183</td>\n",
       "      <td>Замок (автотранспорт) двери передней, правый A...</td>\n",
       "      <td>ЗАМОК ДВЕРИ ПРАВЫЙ ОАО ГАЗ А21R23.6105012</td>\n",
       "    </tr>\n",
       "    <tr>\n",
       "      <th>42097</th>\n",
       "      <td>045.9000.G149</td>\n",
       "      <td>Защелка 2705.8213109 автомобиль ГАЗ</td>\n",
       "      <td>ЗАЩЕЛКА ЗАМКА ПР ОАО ГАЗ 2705.8213109</td>\n",
       "    </tr>\n",
       "    <tr>\n",
       "      <th>42098</th>\n",
       "      <td>045.9000.G160</td>\n",
       "      <td>Защелка 2705-8213110 автомобиль ГАЗ</td>\n",
       "      <td>ЗАЩЕЛКА ЗАМКА ЛЕВ ОАО ГАЗ 2705.8213110</td>\n",
       "    </tr>\n",
       "    <tr>\n",
       "      <th>42099</th>\n",
       "      <td>045.9000.G184</td>\n",
       "      <td>Замок (автотранспорт) двери передней, правый A...</td>\n",
       "      <td>ЗАМОК ДВЕРИ ЛЕВЫЙ ОАО ГАЗ А21R23.6105013</td>\n",
       "    </tr>\n",
       "    <tr>\n",
       "      <th>42100</th>\n",
       "      <td>045.7000.H845</td>\n",
       "      <td>Щетка стеклоочистителя СЛ136Е-5205900 автомоби...</td>\n",
       "      <td>ЩЕТКА СТЕКЛООЧИСТ. ОАО ГАЗ СЛ136Е-5205900</td>\n",
       "    </tr>\n",
       "  </tbody>\n",
       "</table>\n",
       "<p>42101 rows × 3 columns</p>\n",
       "</div>"
      ],
      "text/plain": [
       "                code  ...                                      supplier_name\n",
       "0      065.8000.3296  ...                                 Телевизор 43US662H\n",
       "1      065.8000.3297  ...                                 Телевизор 50US662H\n",
       "2      066.5602.2128  ...  MES2348B_AC Ethernet-коммутатор MES2348B, 48 п...\n",
       "3      035.7800.H271  ...    FH-DP1T30SS01 SFP+ Direct attach cable, 10G, 1m\n",
       "4      066.5602.2127  ...  MES2324B_AC Ethernet-коммутатор MES2324B, 24 п...\n",
       "...              ...  ...                                                ...\n",
       "42096  045.9000.G183  ...          ЗАМОК ДВЕРИ ПРАВЫЙ ОАО ГАЗ А21R23.6105012\n",
       "42097  045.9000.G149  ...              ЗАЩЕЛКА ЗАМКА ПР ОАО ГАЗ 2705.8213109\n",
       "42098  045.9000.G160  ...             ЗАЩЕЛКА ЗАМКА ЛЕВ ОАО ГАЗ 2705.8213110\n",
       "42099  045.9000.G184  ...           ЗАМОК ДВЕРИ ЛЕВЫЙ ОАО ГАЗ А21R23.6105013\n",
       "42100  045.7000.H845  ...          ЩЕТКА СТЕКЛООЧИСТ. ОАО ГАЗ СЛ136Е-5205900\n",
       "\n",
       "[42101 rows x 3 columns]"
      ]
     },
     "execution_count": 116,
     "metadata": {},
     "output_type": "execute_result"
    }
   ],
   "source": []
  },
  {
   "cell_type": "code",
   "execution_count": 122,
   "id": "fbd63453",
   "metadata": {
    "cellId": "j4tvrpolmrjy28hox2ok5j"
   },
   "outputs": [],
   "source": [
    "ref = pd.read_csv('clean_ref.csv')\n",
    "pairs = pd.read_csv('clean_train.csv')"
   ]
  },
  {
   "cell_type": "code",
   "execution_count": 22,
   "id": "0d004e85",
   "metadata": {
    "cellId": "d5mlec75trdl4p0iw30l7i"
   },
   "outputs": [
    {
     "data": {
      "text/plain": [
       "0    вода техническая дистиллированная 1.5л\n",
       "1     вода техническая дистиллированная 10л\n",
       "2      вода техническая дистиллированная 1л\n",
       "3      вода техническая дистиллированная 4л\n",
       "4      вода техническая дистиллированная 5л\n",
       "Name: description, dtype: object"
      ]
     },
     "execution_count": 22,
     "metadata": {},
     "output_type": "execute_result"
    }
   ],
   "source": []
  },
  {
   "cell_type": "code",
   "execution_count": 123,
   "id": "366c8667",
   "metadata": {
    "cellId": "52x9bqvzpsu1f6ggxstpw2"
   },
   "outputs": [],
   "source": [
    "# https://github.com/gorodion/Goods-Classifier/blob/master/summary.ipynb\n",
    "\n",
    "def normalize(ser: pd.Series):\n",
    "#   \"СокДобрый\" -> \"Сок Добрый\"\n",
    "    camel_case_pat = re.compile(r'([а-яa-z])([А-ЯA-Z])')\n",
    "# #   \"lmno\" -> \"лмно\"\n",
    "#     trans_table = make_trans()\n",
    "# #   \"14х15х30\" -> \"DxDxD\"\n",
    "#     dxdxd_pat = re.compile(r'((?:\\d+\\s*[х\\*]\\s*){2}\\d+)')\n",
    "#   \"1.2 15,5\" -> \"1p2 15p5\"  \n",
    "    digit_pat = re.compile(r'(\\d+)[\\.,](\\d+)')\n",
    "#   \"15 мл\" -> \"15мл\"\n",
    "    unit = 'мг|г|гр|кг|мл|л|шт'\n",
    "    unit_pat = re.compile(fr'((?:\\d+p)?\\d+)\\s*({unit})\\b')\n",
    "# #   \"ж/б ст/б\" -> \"жб стб\"\n",
    "#     w_w_pat = re.compile(r'\\b([а-я]{1,2})/([а-я]{1,2})\\b')\n",
    "# #   \"a b c d\" -> \"abcd\"\n",
    "#     glue_pat = re.compile(r'(?<=(?<!\\w)\\w) (?=\\w(?!\\w))', re.UNICODE)\n",
    "    \n",
    "    return ser \\\n",
    "            .str.replace(camel_case_pat, r'\\1 \\2', regex=True) \\\n",
    "            .str.lower() \\\n",
    "            .str.replace(r'ъ\\b', '', regex=True) \\\n",
    "            .str.replace('№', ' NUM ') \\\n",
    "            .str.replace('%', ' PERC ') \\\n",
    "            .str.replace(digit_pat, r' \\1p\\2 ', regex=True) \\\n",
    "            .str.replace(unit_pat, r' \\1\\2 ', regex=True) \\\n",
    "            .str.replace(r'[\\W_]', ' ', regex=True)"
   ]
  },
  {
   "cell_type": "code",
   "execution_count": null,
   "id": "bde50051",
   "metadata": {
    "cellId": "b2lm7hwspo74278ofwt061"
   },
   "outputs": [],
   "source": []
  },
  {
   "cell_type": "code",
   "execution_count": 124,
   "id": "c51241e6",
   "metadata": {
    "cellId": "zixf2utpieph0bndb8gif"
   },
   "outputs": [],
   "source": [
    "ref['norm_desc'] = normalize(ref['description'])"
   ]
  },
  {
   "cell_type": "code",
   "execution_count": 125,
   "id": "5a55cb41",
   "metadata": {
    "cellId": "7hmrbaxyd1kv7v7qwbmsj"
   },
   "outputs": [
    {
     "data": {
      "text/html": [
       "<div>\n",
       "<style scoped>\n",
       "    .dataframe tbody tr th:only-of-type {\n",
       "        vertical-align: middle;\n",
       "    }\n",
       "\n",
       "    .dataframe tbody tr th {\n",
       "        vertical-align: top;\n",
       "    }\n",
       "\n",
       "    .dataframe thead th {\n",
       "        text-align: right;\n",
       "    }\n",
       "</style>\n",
       "<table border=\"1\" class=\"dataframe\">\n",
       "  <thead>\n",
       "    <tr style=\"text-align: right;\">\n",
       "      <th></th>\n",
       "      <th>description</th>\n",
       "      <th>norm_desc</th>\n",
       "    </tr>\n",
       "  </thead>\n",
       "  <tbody>\n",
       "    <tr>\n",
       "      <th>0</th>\n",
       "      <td>Вода техническая дистиллированная 1.5л</td>\n",
       "      <td>вода техническая дистиллированная   1p5л</td>\n",
       "    </tr>\n",
       "    <tr>\n",
       "      <th>1</th>\n",
       "      <td>Вода техническая дистиллированная 10л</td>\n",
       "      <td>вода техническая дистиллированная  10л</td>\n",
       "    </tr>\n",
       "    <tr>\n",
       "      <th>2</th>\n",
       "      <td>Вода техническая дистиллированная 1л</td>\n",
       "      <td>вода техническая дистиллированная  1л</td>\n",
       "    </tr>\n",
       "    <tr>\n",
       "      <th>3</th>\n",
       "      <td>Вода техническая дистиллированная 4л</td>\n",
       "      <td>вода техническая дистиллированная  4л</td>\n",
       "    </tr>\n",
       "    <tr>\n",
       "      <th>4</th>\n",
       "      <td>Вода техническая дистиллированная 5л</td>\n",
       "      <td>вода техническая дистиллированная  5л</td>\n",
       "    </tr>\n",
       "    <tr>\n",
       "      <th>...</th>\n",
       "      <td>...</td>\n",
       "      <td>...</td>\n",
       "    </tr>\n",
       "    <tr>\n",
       "      <th>293564</th>\n",
       "      <td>Комплект оборудования расширения модульного ко...</td>\n",
       "      <td>комплект оборудования расширения модульного ко...</td>\n",
       "    </tr>\n",
       "    <tr>\n",
       "      <th>293565</th>\n",
       "      <td>Комплект оборудования спортивно-технологическо...</td>\n",
       "      <td>комплект оборудования спортивно технологическо...</td>\n",
       "    </tr>\n",
       "    <tr>\n",
       "      <th>293566</th>\n",
       "      <td>Товары канцелярские МРФ Центр</td>\n",
       "      <td>товары канцелярские мрф центр</td>\n",
       "    </tr>\n",
       "    <tr>\n",
       "      <th>293567</th>\n",
       "      <td>Место грузовое</td>\n",
       "      <td>место грузовое</td>\n",
       "    </tr>\n",
       "    <tr>\n",
       "      <th>293568</th>\n",
       "      <td>Посылка</td>\n",
       "      <td>посылка</td>\n",
       "    </tr>\n",
       "  </tbody>\n",
       "</table>\n",
       "<p>293569 rows × 2 columns</p>\n",
       "</div>"
      ],
      "text/plain": [
       "                                              description                                          norm_desc\n",
       "0                  Вода техническая дистиллированная 1.5л          вода техническая дистиллированная   1p5л \n",
       "1                   Вода техническая дистиллированная 10л            вода техническая дистиллированная  10л \n",
       "2                    Вода техническая дистиллированная 1л             вода техническая дистиллированная  1л \n",
       "3                    Вода техническая дистиллированная 4л             вода техническая дистиллированная  4л \n",
       "4                    Вода техническая дистиллированная 5л             вода техническая дистиллированная  5л \n",
       "...                                                   ...                                                ...\n",
       "293564  Комплект оборудования расширения модульного ко...  комплект оборудования расширения модульного ко...\n",
       "293565  Комплект оборудования спортивно-технологическо...  комплект оборудования спортивно технологическо...\n",
       "293566                      Товары канцелярские МРФ Центр                      товары канцелярские мрф центр\n",
       "293567                                     Место грузовое                                     место грузовое\n",
       "293568                                            Посылка                                            посылка\n",
       "\n",
       "[293569 rows x 2 columns]"
      ]
     },
     "execution_count": 125,
     "metadata": {},
     "output_type": "execute_result"
    }
   ],
   "source": [
    "ref[['description', 'norm_desc']]"
   ]
  },
  {
   "cell_type": "code",
   "execution_count": null,
   "id": "90d2fd7b",
   "metadata": {
    "cellId": "6ptgq0q4meubhfwbn2n9"
   },
   "outputs": [],
   "source": []
  },
  {
   "cell_type": "code",
   "execution_count": null,
   "id": "25074be3",
   "metadata": {
    "cellId": "8pjfnrrvff6xmx9om3i47"
   },
   "outputs": [],
   "source": []
  },
  {
   "cell_type": "code",
   "execution_count": null,
   "id": "dcf3b9f6",
   "metadata": {
    "cellId": "291alop2xpjus3kbwde5gm"
   },
   "outputs": [],
   "source": []
  },
  {
   "cell_type": "code",
   "execution_count": null,
   "id": "cc69c5e4",
   "metadata": {
    "cellId": "kmwt1l2euq1dsi9owxiog"
   },
   "outputs": [],
   "source": []
  },
  {
   "cell_type": "code",
   "execution_count": 126,
   "id": "f3c2b9de",
   "metadata": {
    "cellId": "c8qdy0p557ni5moie7bgxg"
   },
   "outputs": [],
   "source": [
    "model = FastText(ref['norm_desc'].apply(lambda x: [w for w in x.split(' ') if len(w) > 0]), vector_size=128, window=5, workers=12, epochs=10, sg=1, bucket=400_000)"
   ]
  },
  {
   "cell_type": "code",
   "execution_count": 127,
   "id": "d9f85dad",
   "metadata": {
    "cellId": "60l6agivvbipojtvbtf2ae"
   },
   "outputs": [
    {
     "data": {
      "text/plain": [
       "[('телевизора', 0.9302962422370911),\n",
       " ('телевизоров', 0.8773584961891174),\n",
       " ('ревизор', 0.8665978908538818),\n",
       " ('1366x768пикс', 0.8039826154708862),\n",
       " ('жидкокристалический', 0.7906965017318726),\n",
       " ('1024x768пикс', 0.783322274684906),\n",
       " ('жидкокристаллический', 0.7815370559692383),\n",
       " ('1366x768', 0.763545572757721),\n",
       " ('t2c', 0.7413266897201538),\n",
       " ('32lem', 0.7326191663742065)]"
      ]
     },
     "execution_count": 127,
     "metadata": {},
     "output_type": "execute_result"
    }
   ],
   "source": [
    "model.wv.most_similar('телевизор')"
   ]
  },
  {
   "cell_type": "code",
   "execution_count": 128,
   "id": "d130106f",
   "metadata": {
    "cellId": "sa700tmxdjfddw5s476lm"
   },
   "outputs": [],
   "source": [
    "model.save('2_fasttext/ft_128_10e.model')"
   ]
  },
  {
   "cell_type": "code",
   "execution_count": 57,
   "id": "33f0191a",
   "metadata": {
    "cellId": "13mqm73ie2zc82eomls47h5"
   },
   "outputs": [],
   "source": []
  },
  {
   "cell_type": "code",
   "execution_count": 58,
   "id": "00eb11b7",
   "metadata": {
    "cellId": "kj4s9ej9adj0z2zgm9ghg7"
   },
   "outputs": [
    {
     "name": "stdout",
     "output_type": "stream",
     "text": [
      "True\n"
     ]
    }
   ],
   "source": []
  },
  {
   "cell_type": "code",
   "execution_count": 92,
   "id": "75eb79e4",
   "metadata": {
    "cellId": "ueqsmnfqnle7z5099iy9lu"
   },
   "outputs": [
    {
     "data": {
      "text/plain": [
       "'вода техническая дистиллированная   1p5л '"
      ]
     },
     "execution_count": 92,
     "metadata": {},
     "output_type": "execute_result"
    }
   ],
   "source": []
  },
  {
   "cell_type": "code",
   "execution_count": 172,
   "id": "06c056ae",
   "metadata": {
    "cellId": "rp0it3dbuq3c57owql8ln"
   },
   "outputs": [],
   "source": [
    "data = ref['norm_desc'].apply(lambda x: [w for w in x.split(' ') if len(w) > 0]).apply(model.wv.get_mean_vector).values"
   ]
  },
  {
   "cell_type": "code",
   "execution_count": 173,
   "id": "a0ec6c58",
   "metadata": {
    "cellId": "cwq9r9rl1jmtx0hyezs2p"
   },
   "outputs": [],
   "source": [
    "data = np.vstack(data)"
   ]
  },
  {
   "cell_type": "code",
   "execution_count": null,
   "id": "7f8c507c",
   "metadata": {
    "cellId": "q2l9bp31f7m2knh2owi7gm"
   },
   "outputs": [],
   "source": []
  },
  {
   "cell_type": "code",
   "execution_count": null,
   "id": "de1ef0e1",
   "metadata": {
    "cellId": "tvy84ybojes9n8qjt1o376"
   },
   "outputs": [],
   "source": []
  },
  {
   "cell_type": "code",
   "execution_count": 131,
   "id": "f872afe8",
   "metadata": {
    "cellId": "5o8bqkvirx57jo57rt5lfn"
   },
   "outputs": [
    {
     "name": "stdout",
     "output_type": "stream",
     "text": [
      "True\n",
      "293569\n"
     ]
    }
   ],
   "source": [
    "index = faiss.IndexFlatL2(128)   # build the index\n",
    "print(index.is_trained)\n",
    "index.add(data)                  # add vectors to the index\n",
    "print(index.ntotal)"
   ]
  },
  {
   "cell_type": "code",
   "execution_count": 133,
   "id": "793412a4",
   "metadata": {
    "cellId": "8zley0x2n5snfk3nd35g4"
   },
   "outputs": [],
   "source": [
    "ref['index'] = ref.index"
   ]
  },
  {
   "cell_type": "code",
   "execution_count": 137,
   "id": "d1db5c5b",
   "metadata": {
    "cellId": "oct875fk6rliezvzoa0cpt"
   },
   "outputs": [],
   "source": [
    "pairs = pairs \\\n",
    "            .merge(ref[['index', 'description']], on='description') \\\n",
    "            .rename(columns={'index': 'reference_index'})"
   ]
  },
  {
   "cell_type": "code",
   "execution_count": 139,
   "id": "4b924468",
   "metadata": {
    "cellId": "9nlopvg2v1tfmt3z2n1hu"
   },
   "outputs": [],
   "source": [
    "pairs['norm_desc'] = normalize(pairs['description'])\n",
    "pairs['norm_supp'] = normalize(pairs['supplier_name'])"
   ]
  },
  {
   "cell_type": "code",
   "execution_count": 153,
   "id": "93520edd",
   "metadata": {
    "cellId": "0yjjcqhhd7ua0ttyeboedm"
   },
   "outputs": [],
   "source": [
    "N = 10\n",
    "\n",
    "supp_vectors = pairs['norm_supp'] \\\n",
    "                .apply(lambda x: [w for w in x.split(' ') if len(w) > 0]) \\\n",
    "                .apply(model.wv.get_mean_vector).values\n",
    "\n",
    "supp_vectors = np.vstack(supp_vectors)\n",
    "dist, ids = index.search(supp_vectors, N)"
   ]
  },
  {
   "cell_type": "code",
   "execution_count": 154,
   "id": "32424121",
   "metadata": {
    "cellId": "hrdgpfate0knxgq2nc7uh"
   },
   "outputs": [],
   "source": [
    "# tmp = pairs.head().copy()\n",
    "pairs[[f'best_{i}_dist' for i in range(N)]] = dist\n",
    "pairs[[f'best_{i}_item' for i in range(N)]] = ids"
   ]
  },
  {
   "cell_type": "code",
   "execution_count": 163,
   "id": "e6d3871f",
   "metadata": {
    "cellId": "s4i604iwjeojqa30qqfg5"
   },
   "outputs": [
    {
     "data": {
      "text/plain": [
       "[<matplotlib.lines.Line2D at 0x7f0154b31910>]"
      ]
     },
     "execution_count": 163,
     "metadata": {},
     "output_type": "execute_result"
    },
    {
     "data": {
      "image/png": "[encoded data removed]",
      "text/plain": [
       "<Figure size 432x288 with 1 Axes>"
      ]
     },
     "metadata": {
      "needs_background": "light"
     },
     "output_type": "display_data"
    }
   ],
   "source": [
    "coinside = pairs['best_0_item'] == pairs['reference_index']\n",
    "res = [coinside.mean()]\n",
    "for i in range(1, 10):\n",
    "    coinside = coinside | (pairs[f'best_{i}_item'] == pairs['reference_index'])\n",
    "    res.append(coinside.mean())\n",
    "    \n",
    "plt.plot(res)"
   ]
  },
  {
   "cell_type": "code",
   "execution_count": 161,
   "id": "cef7cd9f",
   "metadata": {
    "cellId": "215tmknltae4oavgcxi3un"
   },
   "outputs": [],
   "source": [
    "confs = np.linspace(0, 0.2)\n",
    "acc = np.zeros_like(confs)\n",
    "rec = np.zeros_like(confs)\n",
    "\n",
    "for i, x in enumerate(confs):\n",
    "    conf_enough = pairs['best_0_dist'] < x\n",
    "    rec[i] = conf_enough.mean()\n",
    "    acc[i] = (pairs['best_0_item'] == pairs['reference_index'])[conf_enough].mean()"
   ]
  },
  {
   "cell_type": "code",
   "execution_count": 159,
   "id": "92d33e03",
   "metadata": {
    "cellId": "hs3jf4cw7fbssw8ut93vk8"
   },
   "outputs": [],
   "source": [
    "import matplotlib.pyplot as plt"
   ]
  },
  {
   "cell_type": "code",
   "execution_count": 162,
   "id": "994992f5",
   "metadata": {
    "cellId": "ta4a75bh72i91xa6rtmqtk"
   },
   "outputs": [
    {
     "data": {
      "text/plain": [
       "[<matplotlib.lines.Line2D at 0x7f0156a35dc0>]"
      ]
     },
     "execution_count": 162,
     "metadata": {},
     "output_type": "execute_result"
    },
    {
     "data": {
      "image/png": "[encoded data removed]",
      "text/plain": [
       "<Figure size 432x288 with 1 Axes>"
      ]
     },
     "metadata": {
      "needs_background": "light"
     },
     "output_type": "display_data"
    }
   ],
   "source": [
    "plt.plot(confs, acc)\n",
    "plt.plot(confs, rec)"
   ]
  },
  {
   "cell_type": "code",
   "execution_count": 166,
   "id": "02ad88ed",
   "metadata": {
    "cellId": "46b1ck024084bdu1neg399"
   },
   "outputs": [
    {
     "data": {
      "text/plain": [
       "(293569, 128)"
      ]
     },
     "execution_count": 166,
     "metadata": {},
     "output_type": "execute_result"
    }
   ],
   "source": [
    "data.shape"
   ]
  },
  {
   "cell_type": "code",
   "execution_count": 171,
   "id": "2a80ef64",
   "metadata": {
    "cellId": "ph5v34k0p2ooco9b4giol"
   },
   "outputs": [],
   "source": [
    "faiss.normalize_L2(data)"
   ]
  },
  {
   "cell_type": "code",
   "execution_count": 174,
   "id": "344d3def",
   "metadata": {
    "cellId": "0g0ku6p7hdwji623thljxgh"
   },
   "outputs": [],
   "source": [
    "## Now cosine similarity"
   ]
  },
  {
   "cell_type": "code",
   "execution_count": 184,
   "id": "16857b99",
   "metadata": {
    "cellId": "93wpb1q0l9ise0y1fuejgs"
   },
   "outputs": [
    {
     "name": "stdout",
     "output_type": "stream",
     "text": [
      "True\n",
      "293569\n"
     ]
    }
   ],
   "source": [
    "index = faiss.IndexFlatIP(128)\n",
    "print(index.is_trained)\n",
    "faiss.normalize_L2(data)\n",
    "index.add(data)                  # add vectors to the index\n",
    "print(index.ntotal)\n",
    "\n",
    "N = 10\n",
    "\n",
    "supp_vectors = pairs['norm_supp'] \\\n",
    "                .apply(lambda x: [w for w in x.split(' ') if len(w) > 0]) \\\n",
    "                .apply(model.wv.get_mean_vector).values\n",
    "\n",
    "supp_vectors = np.vstack(supp_vectors)\n",
    "faiss.normalize_L2(supp_vectors)\n",
    "dist, ids = index.search(supp_vectors, N)"
   ]
  },
  {
   "cell_type": "code",
   "execution_count": 186,
   "id": "afd8fead",
   "metadata": {
    "cellId": "9z1cssx47j9mecuwe9h9g"
   },
   "outputs": [],
   "source": [
    "# tmp = pairs.head().copy()\n",
    "pairs[[f'best_{i}_dist' for i in range(N)]] = dist\n",
    "pairs[[f'best_{i}_item' for i in range(N)]] = ids"
   ]
  },
  {
   "cell_type": "code",
   "execution_count": 187,
   "id": "07e8d66c",
   "metadata": {
    "cellId": "d59vgeo23cqselqr3visg"
   },
   "outputs": [
    {
     "data": {
      "text/plain": [
       "[<matplotlib.lines.Line2D at 0x7f01678ecb80>]"
      ]
     },
     "execution_count": 187,
     "metadata": {},
     "output_type": "execute_result"
    },
    {
     "data": {
      "image/png": "[encoded data removed]",
      "text/plain": [
       "<Figure size 432x288 with 1 Axes>"
      ]
     },
     "metadata": {
      "needs_background": "light"
     },
     "output_type": "display_data"
    }
   ],
   "source": [
    "coinside = pairs['best_0_item'] == pairs['reference_index']\n",
    "res = [coinside.mean()]\n",
    "for i in range(1, 10):\n",
    "    coinside = coinside | (pairs[f'best_{i}_item'] == pairs['reference_index'])\n",
    "    res.append(coinside.mean())\n",
    "    \n",
    "plt.plot(res)"
   ]
  },
  {
   "cell_type": "code",
   "execution_count": 194,
   "id": "05ed123d",
   "metadata": {
    "cellId": "sgvkhb3eh2jv32p12383l"
   },
   "outputs": [
    {
     "data": {
      "text/plain": [
       "[<matplotlib.lines.Line2D at 0x7f016822f730>]"
      ]
     },
     "execution_count": 194,
     "metadata": {},
     "output_type": "execute_result"
    },
    {
     "data": {
      "image/png": "[encoded data removed]",
      "text/plain": [
       "<Figure size 432x288 with 1 Axes>"
      ]
     },
     "metadata": {
      "needs_background": "light"
     },
     "output_type": "display_data"
    }
   ],
   "source": [
    "confs = np.linspace(0, 1)\n",
    "acc = np.zeros_like(confs)\n",
    "rec = np.zeros_like(confs)\n",
    "\n",
    "for i, x in enumerate(confs):\n",
    "    conf_enough = pairs['best_0_dist'] > x\n",
    "    rec[i] = conf_enough.mean()\n",
    "    acc[i] = (pairs['best_0_item'] == pairs['reference_index'])[conf_enough].mean()\n",
    "    \n",
    "plt.plot(confs, acc)\n",
    "plt.plot(confs, rec)"
   ]
  },
  {
   "cell_type": "code",
   "execution_count": 193,
   "id": "58f69594",
   "metadata": {
    "cellId": "zwvq095hymsryu5wx1a7tr"
   },
   "outputs": [
    {
     "data": {
      "text/plain": [
       "(0.8788627348519038, 0.4240966460365936)"
      ]
     },
     "execution_count": 193,
     "metadata": {},
     "output_type": "execute_result"
    }
   ],
   "source": [
    "conf_enough = pairs['best_0_dist'] > 0.9\n",
    "conf_enough.mean(), (pairs['best_0_item'] == pairs['reference_index'])[conf_enough].mean()"
   ]
  },
  {
   "cell_type": "code",
   "execution_count": null,
   "id": "c3fe362c",
   "metadata": {
    "cellId": "4lkjdt45wguukikq911d1"
   },
   "outputs": [],
   "source": []
  },
  {
   "cell_type": "code",
   "execution_count": null,
   "id": "3a7138f2",
   "metadata": {
    "cellId": "8mpwzgumm9601avoa58s9"
   },
   "outputs": [],
   "source": []
  },
  {
   "cell_type": "code",
   "execution_count": null,
   "id": "cf5fed9d",
   "metadata": {
    "cellId": "5q853dkksc4wxr7ogcy52"
   },
   "outputs": [],
   "source": []
  },
  {
   "cell_type": "code",
   "execution_count": null,
   "id": "60a28b6c",
   "metadata": {
    "cellId": "i9oqif8gvcijlu4ihcwde"
   },
   "outputs": [],
   "source": []
  },
  {
   "cell_type": "code",
   "execution_count": 197,
   "id": "5b50733b",
   "metadata": {
    "cellId": "l5vp0bunl30yryc86xg37j"
   },
   "outputs": [
    {
     "data": {
      "text/plain": [
       "array([ 0.21461497,  0.10066177, -0.45537886, -0.19529827,  0.02818863,\n",
       "       -0.26510102, -0.2974241 , -0.04980391,  0.28667042,  0.06244281,\n",
       "        0.36384562, -0.4402903 , -0.8664536 ,  0.81610614, -0.91009325,\n",
       "       -0.05410856, -0.04033682,  0.5839886 , -0.4889367 ,  0.9308116 ,\n",
       "        0.71179837,  0.02207216, -0.7537576 ,  0.1026753 ,  0.22992785,\n",
       "       -0.06897442,  0.37258554, -0.23481815,  0.04179269,  0.09184567,\n",
       "       -0.14377901, -0.11775664,  0.60678905, -0.2821352 ,  0.31922585,\n",
       "        0.15161446,  0.10545917,  0.1439633 , -0.10046177,  0.22665064,\n",
       "       -0.02884221,  0.22417314, -0.74893665, -0.02073671, -0.08903249,\n",
       "       -0.26029584, -0.9922718 ,  0.21048506,  0.06655484,  0.33735028,\n",
       "        0.11592984, -0.42562696, -0.24809323, -0.34167147,  0.07274075,\n",
       "        0.09461175,  0.43185347, -0.48093638,  0.14268287, -0.35808462,\n",
       "        0.71893317, -0.9902652 , -0.49441916, -0.42637414,  0.33905432,\n",
       "        0.43795362, -0.10015311,  0.61282617,  0.23518567, -0.7125796 ,\n",
       "        0.05612164, -0.20639928,  0.8050517 , -0.5693663 , -0.47257307,\n",
       "        0.08752105, -0.03085996,  0.65051466,  0.5473536 , -0.5270549 ,\n",
       "        0.20757711,  0.15268353, -0.2927998 ,  0.52373904, -0.67064506,\n",
       "        0.14905116, -1.0171667 ,  0.21333717, -0.10039197,  0.7781063 ,\n",
       "       -0.353484  , -0.6423968 ,  0.34631237,  0.42401505, -0.09742118,\n",
       "       -0.13449854,  0.30784363, -0.6266762 , -0.4494824 ,  0.45771083,\n",
       "        0.5804235 , -1.0610362 , -0.02625189, -0.00739347,  0.2048382 ,\n",
       "        0.09722423,  1.370576  , -0.1639582 ,  0.12651972, -0.21947384,\n",
       "       -0.14396735,  0.44821858,  0.29650733,  0.13309593,  0.16258797,\n",
       "       -0.10000674, -0.21308167, -0.8524881 ,  0.5073466 , -0.62630785,\n",
       "        0.02761048, -0.13761754,  0.04794246, -0.83102876,  0.06411213,\n",
       "       -0.13325597,  0.01225602, -0.19361864], dtype=float32)"
      ]
     },
     "execution_count": 197,
     "metadata": {},
     "output_type": "execute_result"
    }
   ],
   "source": [
    "model.wv['one']"
   ]
  },
  {
   "cell_type": "code",
   "execution_count": null,
   "id": "ba64e737",
   "metadata": {
    "cellId": "mfhakld1s205ikgkx4w56o"
   },
   "outputs": [],
   "source": []
  }
 ],
 "metadata": {
  "language_info": {
   "codemirror_mode": {
    "name": "ipython",
    "version": 3
   },
   "file_extension": ".py",
   "mimetype": "text/x-python",
   "name": "python",
   "nbconvert_exporter": "python",
   "pygments_lexer": "ipython3",
   "version": "3.7.7"
  },
  "notebookId": "c1e8bbc1-9e65-4403-8c2e-331ad5a0a38a",
  "notebookPath": "2_fasttext.ipynb"
 },
 "nbformat": 4,
 "nbformat_minor": 5
}
