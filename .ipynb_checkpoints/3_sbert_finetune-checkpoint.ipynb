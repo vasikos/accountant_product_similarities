{
 "cells": [
  {
   "cell_type": "code",
   "execution_count": 1,
   "id": "8c1a3fc5",
   "metadata": {
    "cellId": "cvkeji3i5krdtboh62bi68"
   },
   "outputs": [],
   "source": [
    "from transformers import AutoTokenizer, AutoModel\n",
    "import torch\n",
    "import torch.nn.functional as F\n",
    "import pandas as pd"
   ]
  },
  {
   "cell_type": "code",
   "execution_count": 29,
   "id": "6cf598e2",
   "metadata": {
    "cellId": "j1iccjy6fan7lispgt22k"
   },
   "outputs": [],
   "source": [
    "import faiss"
   ]
  },
  {
   "cell_type": "code",
   "execution_count": 39,
   "id": "770e9f0b",
   "metadata": {
    "cellId": "ad6jh82c6qpz1efikhkxz"
   },
   "outputs": [],
   "source": [
    "def mean_pooling(model_output, attention_mask):\n",
    "    token_embeddings = model_output[0] #First element of model_output contains all token embeddings\n",
    "    input_mask_expanded = attention_mask.unsqueeze(-1).expand(token_embeddings.size()).float()\n",
    "    return torch.sum(token_embeddings * input_mask_expanded, 1) / torch.clamp(input_mask_expanded.sum(1), min=1e-9)\n",
    "\n",
    "\n",
    "# Sentences we want sentence embeddings for\n",
    "sentences = ['This is an example sentence', 'Each sentence is converted']\n",
    "\n",
    "# Load model from HuggingFace Hub\n",
    "tokenizer = AutoTokenizer.from_pretrained('sentence-transformers/all-MiniLM-L6-v2')\n",
    "model = AutoModel.from_pretrained('sentence-transformers/all-MiniLM-L6-v2')\n",
    "\n",
    "# Tokenize sentences\n",
    "encoded_input = tokenizer(sentences, padding=True, truncation=True, return_tensors='pt')\n",
    "\n",
    "# Compute token embeddings\n",
    "with torch.no_grad():\n",
    "    model_output = model(**encoded_input)\n",
    "\n",
    "# Perform pooling\n",
    "sentence_embeddings = mean_pooling(model_output, encoded_input['attention_mask'])\n",
    "\n",
    "# Normalize embeddings\n",
    "sentence_embeddings = F.normalize(sentence_embeddings, p=2, dim=1)\n",
    "\n",
    "\n",
    "def get_embedding(batch, tok, model):\n",
    "    encoded_input = tok(batch, padding=True, truncation=True, return_tensors='pt')\n",
    "    with torch.no_grad():\n",
    "        model_output = model(**encoded_input)\n",
    "    sentence_embeddings = mean_pooling(model_output, encoded_input['attention_mask'])\n",
    "    sentence_embeddings = F.normalize(sentence_embeddings, p=2, dim=1)\n",
    "    return sentence_embeddings\n",
    "    \n",
    "# print(\"Sentence embeddings:\")\n",
    "# print(sentence_embeddings)"
   ]
  },
  {
   "cell_type": "code",
   "execution_count": 193,
   "id": "46bbcdb2",
   "metadata": {
    "cellId": "6e5013jpv6xr08hpbhwzyb"
   },
   "outputs": [
    {
     "data": {
      "text/plain": [
       "['[PAD]']"
      ]
     },
     "execution_count": 193,
     "metadata": {},
     "output_type": "execute_result"
    }
   ],
   "source": [
    "[k for k, v in tokenizer.vocab.items() if v == 0]"
   ]
  },
  {
   "cell_type": "code",
   "execution_count": 28,
   "id": "4d5d2cb6",
   "metadata": {
    "cellId": "qxsowq8p9ojf1z5ge9zlf"
   },
   "outputs": [],
   "source": []
  },
  {
   "cell_type": "code",
   "execution_count": 31,
   "id": "a8d673fa",
   "metadata": {
    "cellId": "oyf1qarezdiqcels3xrn2q"
   },
   "outputs": [],
   "source": [
    "import pandas as pd"
   ]
  },
  {
   "cell_type": "code",
   "execution_count": 32,
   "id": "9472dd07",
   "metadata": {
    "cellId": "eyyfuyg6gbvhlh9n17jv1r"
   },
   "outputs": [],
   "source": [
    "ref_df = pd.read_parquet('reference.parquet')"
   ]
  },
  {
   "cell_type": "code",
   "execution_count": 37,
   "id": "6adcb33c",
   "metadata": {
    "cellId": "jjvdjhh4r4c6jfccwejt7"
   },
   "outputs": [],
   "source": [
    "m = ~ref_df['description'].isna()\n",
    "ref_df = ref_df[m].reset_index(drop=True).copy()"
   ]
  },
  {
   "cell_type": "code",
   "execution_count": 45,
   "id": "beb75674",
   "metadata": {
    "cellId": "etfqb2aihluzdjs4qnqkk9"
   },
   "outputs": [],
   "source": [
    "from tqdm.notebook import tqdm as tqdm_"
   ]
  },
  {
   "cell_type": "code",
   "execution_count": 49,
   "id": "43ac86eb",
   "metadata": {
    "cellId": "zr37h4syqggrl2jxit29p8"
   },
   "outputs": [
    {
     "ename": "AttributeError",
     "evalue": "'BertTokenizerFast' object has no attribute 'gpu'",
     "output_type": "error",
     "traceback": [
      "\u001b[0;31m---------------------------------------------------------------------------\u001b[0m",
      "\u001b[0;31mAttributeError\u001b[0m                            Traceback (most recent call last)",
      "\u001b[0;32m<ipython-input-1-a59b80959808>\u001b[0m in \u001b[0;36m<module>\u001b[0;34m\u001b[0m\n\u001b[0;32m----> 1\u001b[0;31m \u001b[0mtokenizer\u001b[0m\u001b[0;34m.\u001b[0m\u001b[0mgpu\u001b[0m\u001b[0;34m(\u001b[0m\u001b[0;34m)\u001b[0m\u001b[0;34m\u001b[0m\u001b[0;34m\u001b[0m\u001b[0m\n\u001b[0m\u001b[1;32m      2\u001b[0m \u001b[0;31m#\u001b[0m\u001b[0;34m\u001b[0m\u001b[0;34m\u001b[0m\u001b[0;34m\u001b[0m\u001b[0m\n",
      "\u001b[0;31mAttributeError\u001b[0m: 'BertTokenizerFast' object has no attribute 'gpu'"
     ]
    }
   ],
   "source": [
    "tokenizer"
   ]
  },
  {
   "cell_type": "code",
   "execution_count": 50,
   "id": "19289b59",
   "metadata": {
    "cellId": "79v2n2cq2ms4xb4oreax9p"
   },
   "outputs": [
    {
     "data": {
      "application/vnd.jupyter.widget-view+json": {
       "model_id": "8102362dfa52416e8e824d19a1328922",
       "version_major": 2,
       "version_minor": 0
      },
      "text/plain": [
       "HBox(children=(HTML(value=''), FloatProgress(value=0.0, max=294106.0), HTML(value='')))"
      ]
     },
     "metadata": {},
     "output_type": "display_data"
    },
    {
     "name": "stdout",
     "output_type": "stream",
     "text": [
      "\n"
     ]
    }
   ],
   "source": [
    "ref_embeddings = []\n",
    "\n",
    "for s in tqdm_(ref_df['description'].values):\n",
    "    emb = get_embedding([s], tokenizer, model)\n",
    "    ref_embeddings.extend(emb)"
   ]
  },
  {
   "cell_type": "code",
   "execution_count": 52,
   "id": "c1461310",
   "metadata": {
    "cellId": "l5zxfbn0xe70xsya7wwft8g"
   },
   "outputs": [],
   "source": [
    "import json"
   ]
  },
  {
   "cell_type": "code",
   "execution_count": 66,
   "id": "01985e33",
   "metadata": {
    "cellId": "7g1mb2w83737nowm0ptdeo"
   },
   "outputs": [
    {
     "data": {
      "text/plain": [
       "tensor([[-0.0164,  0.0397,  0.0203,  ..., -0.0031, -0.0092, -0.0216],\n",
       "        [-0.0143,  0.0518, -0.0250,  ...,  0.0325,  0.0214, -0.0564],\n",
       "        [-0.0061,  0.0416, -0.0070,  ..., -0.0017,  0.0061, -0.0399],\n",
       "        ...,\n",
       "        [ 0.0176,  0.0414, -0.0410,  ...,  0.0012,  0.0347, -0.0090],\n",
       "        [ 0.0374,  0.0785, -0.0200,  ...,  0.0488, -0.0211, -0.0473],\n",
       "        [ 0.0339,  0.0417, -0.0512,  ...,  0.0515,  0.1003, -0.0168]])"
      ]
     },
     "execution_count": 66,
     "metadata": {},
     "output_type": "execute_result"
    }
   ],
   "source": [
    "torch.cat(ref_embeddings).reshape((-1, 384)).ipynb_c"
   ]
  },
  {
   "cell_type": "code",
   "execution_count": 68,
   "id": "92fd7ddd",
   "metadata": {
    "cellId": "0tdfxelh9x52uha26b80hw"
   },
   "outputs": [],
   "source": [
    "torch.save(ref_embeddings, 'ref_embeddings.pt')"
   ]
  },
  {
   "cell_type": "code",
   "execution_count": 69,
   "id": "5232588e",
   "metadata": {
    "cellId": "x2h0g5do3msz3j5mkjz9w8"
   },
   "outputs": [],
   "source": [
    "ref_df.to_parquet('ref_1.parquet')"
   ]
  },
  {
   "cell_type": "code",
   "execution_count": 89,
   "id": "2c4e8d6a",
   "metadata": {
    "cellId": "tozcbj1ajfunxqf4kwt8s"
   },
   "outputs": [],
   "source": [
    "torch.save(torch.cat(ref_embeddings).reshape((-1, 384)), 'ref_embeddings.pt')"
   ]
  },
  {
   "cell_type": "code",
   "execution_count": 93,
   "id": "62a57313",
   "metadata": {
    "cellId": "g9nowjlpcklf3ub3zxazh"
   },
   "outputs": [],
   "source": [
    "ref_embeddings = torch.cat(ref_embeddings).reshape((-1, 384))"
   ]
  },
  {
   "cell_type": "code",
   "execution_count": 70,
   "id": "632a5a01",
   "metadata": {
    "cellId": "uycj6n27uv5mrconuy4z"
   },
   "outputs": [],
   "source": [
    "train_df = pd.read_parquet('train.parquet')"
   ]
  },
  {
   "cell_type": "code",
   "execution_count": 80,
   "id": "54aeba83",
   "metadata": {
    "cellId": "quyy4nlj8i7wdf70dl8lc9"
   },
   "outputs": [],
   "source": [
    "m = train_df['description'].isin(ref_df['description'])\n",
    "m = m & (~train_df['description'].isna())\n",
    "m = m & (~train_df['supplier_name'].isna())"
   ]
  },
  {
   "cell_type": "code",
   "execution_count": 83,
   "id": "b9107adb",
   "metadata": {
    "cellId": "kw6qph1y7emq834r2114ip"
   },
   "outputs": [],
   "source": [
    "train_df[m].reset_index(drop=True).to_parquet('train_1.parquet')"
   ]
  },
  {
   "cell_type": "code",
   "execution_count": 84,
   "id": "8a55c877",
   "metadata": {
    "cellId": "58et8erbbtqbgfd7fcasea"
   },
   "outputs": [],
   "source": [
    "train_df = pd.read_parquet('train_1.parquet')"
   ]
  },
  {
   "cell_type": "code",
   "execution_count": 85,
   "id": "5e5b1612",
   "metadata": {
    "cellId": "4q8w0j8iqd5sp1r0xub31"
   },
   "outputs": [
    {
     "data": {
      "application/vnd.jupyter.widget-view+json": {
       "model_id": "e969be7df3cb4ccb9b210e185355f344",
       "version_major": 2,
       "version_minor": 0
      },
      "text/plain": [
       "HBox(children=(HTML(value=''), FloatProgress(value=0.0, max=42101.0), HTML(value='')))"
      ]
     },
     "metadata": {},
     "output_type": "display_data"
    },
    {
     "name": "stdout",
     "output_type": "stream",
     "text": [
      "\n"
     ]
    }
   ],
   "source": [
    "supp_embeddings = []\n",
    "\n",
    "for s in tqdm_(train_df['supplier_name'].values):\n",
    "    emb = get_embedding([s], tokenizer, model)\n",
    "    supp_embeddings.extend(emb)"
   ]
  },
  {
   "cell_type": "code",
   "execution_count": 0,
   "id": "a510483d",
   "metadata": {
    "cellId": "990xax4lhvphkayvdqm"
   },
   "outputs": [],
   "source": []
  },
  {
   "cell_type": "code",
   "execution_count": 95,
   "id": "1dc1d3df",
   "metadata": {
    "cellId": "pt2wvu65wfmghulvk9oykj"
   },
   "outputs": [
    {
     "data": {
      "text/plain": [
       "torch.Size([294106, 384])"
      ]
     },
     "execution_count": 95,
     "metadata": {},
     "output_type": "execute_result"
    }
   ],
   "source": [
    "ref_embeddings.shape"
   ]
  },
  {
   "cell_type": "code",
   "execution_count": 97,
   "id": "d86f67b5",
   "metadata": {
    "cellId": "6q01hztwboa1rlpbehjnnf"
   },
   "outputs": [],
   "source": [
    "supp_embeddings = torch.cat(supp_embeddings).reshape((-1, 384))"
   ]
  },
  {
   "cell_type": "code",
   "execution_count": 101,
   "id": "33b27a0f",
   "metadata": {
    "cellId": "3sdc3xz6pt7nu0cx2qsojf"
   },
   "outputs": [],
   "source": [
    "torch.save(supp_embeddings, 'supp_embeddings.pt')"
   ]
  },
  {
   "cell_type": "code",
   "execution_count": 0,
   "id": "5b7c252d",
   "metadata": {
    "cellId": "q86jhppxwkhhss0kwrgcn"
   },
   "outputs": [],
   "source": []
  },
  {
   "cell_type": "code",
   "execution_count": 128,
   "id": "2516bded",
   "metadata": {
    "cellId": "mubo6czl2iq1g3xyptsh8"
   },
   "outputs": [
    {
     "data": {
      "text/plain": [
       "tensor([[0.5862, 0.6260, 0.2282, 0.0637],\n",
       "        [0.5352, 0.5773, 0.2184, 0.1004],\n",
       "        [0.5556, 0.5943, 0.1886, 0.0531],\n",
       "        ...,\n",
       "        [0.4976, 0.5135, 0.2768, 0.0684],\n",
       "        [0.5631, 0.5384, 0.2830, 0.1559],\n",
       "        [0.4362, 0.4305, 0.2148, 0.1438]])"
      ]
     },
     "execution_count": 128,
     "metadata": {},
     "output_type": "execute_result"
    }
   ],
   "source": [
    "a_norm = ref_embeddings / ref_embeddings.norm(dim=1)[:, None]\n",
    "b_norm = supp_embeddings[:4, :] / supp_embeddings[:4, :].norm(dim=1)[:, None]\n",
    "res = torch.mm(a_norm, b_norm.transpose(0,1))\n",
    "res"
   ]
  },
  {
   "cell_type": "code",
   "execution_count": 103,
   "id": "21e3b2a9",
   "metadata": {
    "cellId": "bf5uk37nx2rx53o7e63xqi"
   },
   "outputs": [
    {
     "data": {
      "text/plain": [
       "torch.Size([10, 384])"
      ]
     },
     "execution_count": 103,
     "metadata": {},
     "output_type": "execute_result"
    }
   ],
   "source": [
    "top_ten = []\n"
   ]
  },
  {
   "cell_type": "code",
   "execution_count": 139,
   "id": "cb6376b0",
   "metadata": {
    "cellId": "q34ned5o6bg8qsrgykua9"
   },
   "outputs": [],
   "source": [
    "def get_top_cosine(ref, batch):\n",
    "    a_norm = ref / ref.norm(dim=1)[:, None]\n",
    "    b_norm = batch / batch.norm(dim=1)[:, None]\n",
    "    res = torch.mm(a_norm, b_norm.transpose(0,1))\n",
    "    return res.argsort(dim=0, descending=True)[:10, :].T.tolist()"
   ]
  },
  {
   "cell_type": "code",
   "execution_count": 140,
   "id": "26444305",
   "metadata": {
    "cellId": "gwti1k32md6l3zwtr0g3xf"
   },
   "outputs": [
    {
     "data": {
      "text/plain": [
       "torch.Size([42101, 384])"
      ]
     },
     "execution_count": 140,
     "metadata": {},
     "output_type": "execute_result"
    }
   ],
   "source": [
    "supp_embeddings.shape"
   ]
  },
  {
   "cell_type": "code",
   "execution_count": 153,
   "id": "5e0091c3",
   "metadata": {
    "cellId": "27tvtwk0czdr07dvqu8uvb"
   },
   "outputs": [
    {
     "data": {
      "application/vnd.jupyter.widget-view+json": {
       "model_id": "270fc28e99964088a1acee0fcc9d7eee",
       "version_major": 2,
       "version_minor": 0
      },
      "text/plain": [
       "HBox(children=(HTML(value=''), FloatProgress(value=0.0, max=329.0), HTML(value='')))"
      ]
     },
     "metadata": {},
     "output_type": "display_data"
    },
    {
     "name": "stdout",
     "output_type": "stream",
     "text": [
      "\n"
     ]
    },
    {
     "ename": "KeyboardInterrupt",
     "evalue": "",
     "output_type": "error",
     "traceback": [
      "\u001b[0;31m---------------------------------------------------------------------------\u001b[0m",
      "\u001b[0;31mKeyboardInterrupt\u001b[0m                         Traceback (most recent call last)",
      "\u001b[0;32m<ipython-input-106-d26fe4961fdd>\u001b[0m in \u001b[0;36m<module>\u001b[0;34m\u001b[0m\n\u001b[1;32m      2\u001b[0m \u001b[0mB_SIZE\u001b[0m \u001b[0;34m=\u001b[0m \u001b[0;36m128\u001b[0m\u001b[0;34m\u001b[0m\u001b[0;34m\u001b[0m\u001b[0m\n\u001b[1;32m      3\u001b[0m \u001b[0;32mfor\u001b[0m \u001b[0mi\u001b[0m \u001b[0;32min\u001b[0m \u001b[0mtqdm_\u001b[0m\u001b[0;34m(\u001b[0m\u001b[0mrange\u001b[0m\u001b[0;34m(\u001b[0m\u001b[0;36m0\u001b[0m\u001b[0;34m,\u001b[0m \u001b[0msupp_embeddings\u001b[0m\u001b[0;34m.\u001b[0m\u001b[0mshape\u001b[0m\u001b[0;34m[\u001b[0m\u001b[0;36m0\u001b[0m\u001b[0;34m]\u001b[0m\u001b[0;34m,\u001b[0m \u001b[0mB_SIZE\u001b[0m\u001b[0;34m)\u001b[0m\u001b[0;34m)\u001b[0m\u001b[0;34m:\u001b[0m\u001b[0;34m\u001b[0m\u001b[0;34m\u001b[0m\u001b[0m\n\u001b[0;32m----> 4\u001b[0;31m     \u001b[0mtop_embs\u001b[0m\u001b[0;34m.\u001b[0m\u001b[0mextend\u001b[0m\u001b[0;34m(\u001b[0m\u001b[0mget_top_cosine\u001b[0m\u001b[0;34m(\u001b[0m\u001b[0mref_embeddings\u001b[0m\u001b[0;34m,\u001b[0m \u001b[0msupp_embeddings\u001b[0m\u001b[0;34m[\u001b[0m\u001b[0mi\u001b[0m\u001b[0;34m:\u001b[0m\u001b[0;34m(\u001b[0m\u001b[0mi\u001b[0m\u001b[0;34m+\u001b[0m\u001b[0mB_SIZE\u001b[0m\u001b[0;34m)\u001b[0m\u001b[0;34m]\u001b[0m\u001b[0;34m)\u001b[0m\u001b[0;34m)\u001b[0m\u001b[0;34m\u001b[0m\u001b[0;34m\u001b[0m\u001b[0m\n\u001b[0m\u001b[1;32m      5\u001b[0m \u001b[0;31m#\u001b[0m\u001b[0;34m\u001b[0m\u001b[0;34m\u001b[0m\u001b[0;34m\u001b[0m\u001b[0m\n",
      "\u001b[0;32m<ipython-input-92-a49d9f92702c>\u001b[0m in \u001b[0;36mget_top_cosine\u001b[0;34m(ref, batch)\u001b[0m\n\u001b[1;32m      3\u001b[0m     \u001b[0mb_norm\u001b[0m \u001b[0;34m=\u001b[0m \u001b[0mbatch\u001b[0m \u001b[0;34m/\u001b[0m \u001b[0mbatch\u001b[0m\u001b[0;34m.\u001b[0m\u001b[0mnorm\u001b[0m\u001b[0;34m(\u001b[0m\u001b[0mdim\u001b[0m\u001b[0;34m=\u001b[0m\u001b[0;36m1\u001b[0m\u001b[0;34m)\u001b[0m\u001b[0;34m[\u001b[0m\u001b[0;34m:\u001b[0m\u001b[0;34m,\u001b[0m \u001b[0;32mNone\u001b[0m\u001b[0;34m]\u001b[0m\u001b[0;34m\u001b[0m\u001b[0;34m\u001b[0m\u001b[0m\n\u001b[1;32m      4\u001b[0m     \u001b[0mres\u001b[0m \u001b[0;34m=\u001b[0m \u001b[0mtorch\u001b[0m\u001b[0;34m.\u001b[0m\u001b[0mmm\u001b[0m\u001b[0;34m(\u001b[0m\u001b[0ma_norm\u001b[0m\u001b[0;34m,\u001b[0m \u001b[0mb_norm\u001b[0m\u001b[0;34m.\u001b[0m\u001b[0mtranspose\u001b[0m\u001b[0;34m(\u001b[0m\u001b[0;36m0\u001b[0m\u001b[0;34m,\u001b[0m\u001b[0;36m1\u001b[0m\u001b[0;34m)\u001b[0m\u001b[0;34m)\u001b[0m\u001b[0;34m\u001b[0m\u001b[0;34m\u001b[0m\u001b[0m\n\u001b[0;32m----> 5\u001b[0;31m     \u001b[0;32mreturn\u001b[0m \u001b[0mres\u001b[0m\u001b[0;34m.\u001b[0m\u001b[0margsort\u001b[0m\u001b[0;34m(\u001b[0m\u001b[0mdim\u001b[0m\u001b[0;34m=\u001b[0m\u001b[0;36m0\u001b[0m\u001b[0;34m,\u001b[0m \u001b[0mdescending\u001b[0m\u001b[0;34m=\u001b[0m\u001b[0;32mTrue\u001b[0m\u001b[0;34m)\u001b[0m\u001b[0;34m[\u001b[0m\u001b[0;34m:\u001b[0m\u001b[0;36m10\u001b[0m\u001b[0;34m,\u001b[0m \u001b[0;34m:\u001b[0m\u001b[0;34m]\u001b[0m\u001b[0;34m.\u001b[0m\u001b[0mT\u001b[0m\u001b[0;34m.\u001b[0m\u001b[0mtolist\u001b[0m\u001b[0;34m(\u001b[0m\u001b[0;34m)\u001b[0m\u001b[0;34m\u001b[0m\u001b[0;34m\u001b[0m\u001b[0m\n\u001b[0m\u001b[1;32m      6\u001b[0m \u001b[0;31m#\u001b[0m\u001b[0;34m\u001b[0m\u001b[0;34m\u001b[0m\u001b[0;34m\u001b[0m\u001b[0m\n",
      "\u001b[0;31mKeyboardInterrupt\u001b[0m: "
     ]
    }
   ],
   "source": [
    "top_embs = []\n",
    "B_SIZE = 128\n",
    "for i in tqdm_(range(0, supp_embeddings.shape[0], B_SIZE)):\n",
    "    top_embs.extend(get_top_cosine(ref_embeddings, supp_embeddings[i:(i+B_SIZE)]))"
   ]
  },
  {
   "cell_type": "code",
   "execution_count": 194,
   "id": "6aceb4bf",
   "metadata": {
    "cellId": "2k7parhbu73foxyy8rmfv6"
   },
   "outputs": [
    {
     "data": {
      "application/vnd.jupyter.widget-view+json": {
       "model_id": "442eef3d01664f2f9dffbedad3f66791",
       "version_major": 2,
       "version_minor": 0
      },
      "text/plain": [
       "HBox(children=(HTML(value=''), FloatProgress(value=0.0, max=2944.0), HTML(value='')))"
      ]
     },
     "metadata": {},
     "output_type": "display_data"
    },
    {
     "name": "stdout",
     "output_type": "stream",
     "text": [
      "\n"
     ]
    }
   ],
   "source": [
    "in_5 = []\n",
    "\n",
    "for i in tqdm_(range(len(top_embs))):\n",
    "    ref = train_df['description'].values[i]\n",
    "    ans = False\n",
    "    for n in top_embs[i][:1]:\n",
    "        if ref_df['description'].values[n] == ref:\n",
    "            ans = True\n",
    "    in_10.append(ans)"
   ]
  },
  {
   "cell_type": "code",
   "execution_count": 195,
   "id": "eff5ad71",
   "metadata": {
    "cellId": "6ctrhhqlq3bij7gx2r7e6"
   },
   "outputs": [
    {
     "data": {
      "text/plain": [
       "0.39809782608695654"
      ]
     },
     "execution_count": 195,
     "metadata": {},
     "output_type": "execute_result"
    }
   ],
   "source": [
    "sum(in_10) / len(in_10)"
   ]
  },
  {
   "cell_type": "code",
   "execution_count": 156,
   "id": "27513a8c",
   "metadata": {
    "cellId": "lw1dda4cykarkkyh0dxm9"
   },
   "outputs": [
    {
     "data": {
      "text/plain": [
       "'Коммутатор управляемый Eltex MES2324B RS-232, 4x10GBase-R SFP+/1000Base-X SFP, 24 x10/100/1000Base-T 128Гбит/с настольный/стоечный'"
      ]
     },
     "execution_count": 156,
     "metadata": {},
     "output_type": "execute_result"
    }
   ],
   "source": [
    "train_df['description'].values[4]"
   ]
  },
  {
   "cell_type": "code",
   "execution_count": 135,
   "id": "9ad1109e",
   "metadata": {
    "cellId": "vnlec5s6sydx8ebo5g0e6b"
   },
   "outputs": [
    {
     "data": {
      "text/plain": [
       "'Программное обеспечение сертификат Eltex S-MES2324P3YW на расширение сервисного обслуживания Ethernet-коммутатор MES2324P-AC 3год'"
      ]
     },
     "execution_count": 135,
     "metadata": {},
     "output_type": "execute_result"
    }
   ],
   "source": [
    "ref_df.iloc[181851]['description']"
   ]
  },
  {
   "cell_type": "code",
   "execution_count": 199,
   "id": "676a5892",
   "metadata": {
    "cellId": "2bn74w1jyog0rvsonak3or"
   },
   "outputs": [
    {
     "data": {
      "text/plain": [
       "{'input_ids': [[101, 1182, 14150, 29742, 10260, 1197, 15290, 29750, 18947, 10325, 29752, 15290, 29747, 28598, 17432, 1184, 10325, 29747, 22919, 10325, 29436, 29436, 10325, 16856, 19259, 28995, 19865, 17432, 1015, 1012, 1019, 29436, 102], [101, 1182, 14150, 29742, 10260, 1197, 15290, 29750, 18947, 10325, 29752, 15290, 29747, 28598, 17432, 1184, 10325, 29747, 22919, 10325, 29436, 29436, 10325, 16856, 19259, 28995, 19865, 17432, 2184, 29436, 102, 0, 0]], 'token_type_ids': [[0, 0, 0, 0, 0, 0, 0, 0, 0, 0, 0, 0, 0, 0, 0, 0, 0, 0, 0, 0, 0, 0, 0, 0, 0, 0, 0, 0, 0, 0, 0, 0, 0], [0, 0, 0, 0, 0, 0, 0, 0, 0, 0, 0, 0, 0, 0, 0, 0, 0, 0, 0, 0, 0, 0, 0, 0, 0, 0, 0, 0, 0, 0, 0, 0, 0]], 'attention_mask': [[1, 1, 1, 1, 1, 1, 1, 1, 1, 1, 1, 1, 1, 1, 1, 1, 1, 1, 1, 1, 1, 1, 1, 1, 1, 1, 1, 1, 1, 1, 1, 1, 1], [1, 1, 1, 1, 1, 1, 1, 1, 1, 1, 1, 1, 1, 1, 1, 1, 1, 1, 1, 1, 1, 1, 1, 1, 1, 1, 1, 1, 1, 1, 1, 0, 0]]}"
      ]
     },
     "execution_count": 199,
     "metadata": {},
     "output_type": "execute_result"
    }
   ],
   "source": [
    "tokenizer(ref_df['description'].values[:2].tolist(), padding=True, truncation=True)"
   ]
  },
  {
   "cell_type": "code",
   "execution_count": 204,
   "id": "e47b9b46",
   "metadata": {
    "cellId": "sysue2bgdncrh98sj5tohj"
   },
   "outputs": [
    {
     "data": {
      "text/plain": [
       "(0, 294106)"
      ]
     },
     "execution_count": 204,
     "metadata": {},
     "output_type": "execute_result"
    }
   ],
   "source": [
    "ans = 0\n",
    "cnt = 0\n",
    "\n",
    "for s in tokenizer(ref_df['description'].values.tolist(), padding=True, truncation=True)['input_ids']:\n",
    "    cnt += 1\n",
    "    if 100 in s:\n",
    "        ans += 1\n",
    "\n",
    "ans, cnt"
   ]
  },
  {
   "cell_type": "code",
   "execution_count": 190,
   "id": "d9ecf0d0",
   "metadata": {
    "cellId": "yj2nd02zhv8grfsy5g52ig"
   },
   "outputs": [
    {
     "data": {
      "text/plain": [
       "['Вода техническая дистиллированная 1.5л',\n",
       " 'Вода техническая дистиллированная 10л',\n",
       " 'Вода техническая дистиллированная 1л',\n",
       " 'Вода техническая дистиллированная 4л',\n",
       " 'Вода техническая дистиллированная 5л',\n",
       " 'Бензин авиационный Б-70',\n",
       " 'Бензин автомобильный G-Drive 95',\n",
       " 'Бензин автомобильный А-76',\n",
       " 'Бензин автомобильный А-80',\n",
       " 'Бензин автомобильный А-92',\n",
       " 'Бензин автомобильный А-95',\n",
       " 'Бензин автомобильный АИ-100-К5 New Power',\n",
       " 'Бензин автомобильный АИ-80',\n",
       " 'Бензин автомобильный АИ-92',\n",
       " 'Бензин автомобильный АИ-92 Евро',\n",
       " 'Бензин автомобильный АИ-92 Премиум',\n",
       " 'Бензин автомобильный АИ-92 Фора',\n",
       " 'Бензин автомобильный АИ-92 Экто',\n",
       " 'Бензин автомобильный АИ-93',\n",
       " 'Бензин автомобильный АИ-95',\n",
       " 'Бензин автомобильный АИ-95 Евро',\n",
       " 'Бензин автомобильный АИ-95 Премиум',\n",
       " 'Бензин автомобильный АИ-95 Ультра',\n",
       " 'Бензин автомобильный АИ-95 Фора',\n",
       " 'Бензин автомобильный АИ-95 Экто',\n",
       " 'Бензин автомобильный АИ-96',\n",
       " 'Бензин автомобильный АИ-98',\n",
       " 'Бензин автомобильный Нормаль-80',\n",
       " 'Бензин автомобильный Регуляр-92',\n",
       " 'Бензин автомобильный Регуляр-92 Евро',\n",
       " 'Бензин автомобильный Экто Plus 1',\n",
       " 'Керосин авиационный ТС-1',\n",
       " 'Керосин технический Virtuoso',\n",
       " 'Керосин технический КО-25',\n",
       " 'Керосин технический Ладога',\n",
       " 'Топливо дизельное Вид 1, Евро, летнее C',\n",
       " 'Топливо дизельное ТССУС для стационарных силовых установок севера',\n",
       " 'Топливо дизельное арктическое ДТ-А-К5',\n",
       " 'Топливо дизельное зимнее',\n",
       " 'Топливо дизельное зимнее E EN 590',\n",
       " 'Топливо дизельное зимнее ДЗП-0.2',\n",
       " 'Топливо дизельное зимнее ДТ-З-К5 ТР ТС 013/2011',\n",
       " 'Топливо дизельное зимнее ДТЗ-0.2 ГОСТ 305-2013',\n",
       " 'Топливо дизельное зимнее ЭКТО',\n",
       " 'Топливо дизельное летнее',\n",
       " 'Топливо дизельное летнее ДТЛ S-0.2-40',\n",
       " 'Топливо дизельное летнее ДТЛ-К5',\n",
       " 'Топливо дизельное летнее Л-0.05-62',\n",
       " 'Топливо дизельное летнее Ультра',\n",
       " 'Топливо дизельное межсезонное ДТ-Е-К5 сорт E',\n",
       " 'Масло промывочное G-Energy Flushing oil 205л',\n",
       " 'Масло промывочное G-Energy Flushing oil 4л',\n",
       " 'Масло промывочное Волга-Ойл МПТ-2М 4л',\n",
       " 'Масло промывочное Газпромнефть-СМ Promo 205л',\n",
       " 'Масло промывочное Газпромнефть-СМ Promo 3.5л',\n",
       " 'Масло промывочное Газпромнефть-СМ Promo 50л',\n",
       " 'Масло промывочное Газпромнефть-СМ МП Синтетик 205л',\n",
       " 'Масло промывочное Газпромнефть-СМ МП Синтетик 4л',\n",
       " 'Масло промывочное минеральное LUXE МПА-2 4л',\n",
       " 'Масло промывочное минеральное LUXE МПА-2 5л',\n",
       " 'Масло промывочное минеральное Делфин индастри OILRIGHT МПА-2-0 4л',\n",
       " 'Масло промывочное минеральное Лукойл 4л',\n",
       " 'Масло промывочное минеральное Обнинскоргсинтез SINTEC МПТ-2М 4л',\n",
       " 'Масло промывочное минеральное Уфимск МПА-2 4601 5л',\n",
       " 'Масло трансмиссионное минеральное Devon ATF Dexron III 1л',\n",
       " 'Масло трансмиссионное минеральное Devon ATF Dexron III 20л',\n",
       " 'Масло трансмиссионное минеральное Devon Diesel 15W-40 18л',\n",
       " 'Масло трансмиссионное минеральное Favorit Gear GL-4 80W-90 GL-4 4л',\n",
       " 'Масло трансмиссионное минеральное LUXE Dextron III 4л',\n",
       " 'Масло трансмиссионное минеральное Liqui Moly Getriebeoil 85W-90 GL-4 1л',\n",
       " 'Масло трансмиссионное минеральное Luxe ТАД-17И 80W-90 GL-5 4л',\n",
       " 'Масло трансмиссионное минеральное Mannol UNIVERSAL GETRIEBEOEL 80W-90 GL-4 4л',\n",
       " 'Масло трансмиссионное минеральное Mobil ATF 220 1л',\n",
       " 'Масло трансмиссионное минеральное Mobil ATF 320 1л',\n",
       " 'Масло трансмиссионное минеральное Mobil Dexron 320 SN 1л',\n",
       " 'Масло трансмиссионное минеральное OILRIGHT ТАД-17 2545 80W-90 5л',\n",
       " 'Масло трансмиссионное минеральное OILRIGHT ТАД-17 80W-90 GL-5 10л',\n",
       " 'Масло трансмиссионное минеральное OILRIGHT ТАД-17 80W-90 GL-5 180кг',\n",
       " 'Масло трансмиссионное минеральное OILRIGHT ТАД-17 80W-90 GL-5 1л',\n",
       " 'Масло трансмиссионное минеральное OILRIGHT ТАД-17 80W-90 GL-5 20л',\n",
       " 'Масло трансмиссионное минеральное OILRIGHT ТАД-17 80W-90 GL-5 3л',\n",
       " 'Масло трансмиссионное минеральное OILRIGHT ТАД-17И 80W-90 GL-5 10л',\n",
       " 'Масло трансмиссионное минеральное OILRIGHT ТМ-5-18 80W-90 5л',\n",
       " 'Масло трансмиссионное минеральное OILRIGHT ТСп-15К 80W-90 GL-3 10л',\n",
       " 'Масло трансмиссионное минеральное OILRIGHT ТСп-15К 80W-90 GL-3 20л',\n",
       " 'Масло трансмиссионное минеральное OILRIGHT ТСп-15К 80W-90 GL-3 5л',\n",
       " 'Масло трансмиссионное минеральное OILRIGHT ТЭП-15 Нигрол 90W GL-2 10л',\n",
       " 'Масло трансмиссионное минеральное OILRIGHT ТЭП-15 Нигрол 90W GL-2 1л',\n",
       " 'Масло трансмиссионное минеральное OILRIGHT ТЭП-15 Нигрол 90W GL-2 20л',\n",
       " 'Масло трансмиссионное минеральное OILRIGHT ТЭП-15 Нигрол 90W GL-2 3л',\n",
       " 'Масло трансмиссионное минеральное OILRIGHT ТЭП-15 Нигрол 90W GL-2 5л',\n",
       " 'Масло трансмиссионное минеральное PC ATF D3M 20л',\n",
       " 'Масло трансмиссионное минеральное PC DEXRON VI ATF 75W-90 GL-5 4л',\n",
       " 'Масло трансмиссионное минеральное ROLF ATF DX IID 322240 1л',\n",
       " 'Масло трансмиссионное минеральное Siboil ТАД-17И 85W-90 GL-5 10л',\n",
       " 'Масло трансмиссионное минеральное Sintec ТСп-15К 80W-90 GL-3 10л',\n",
       " 'Масло трансмиссионное минеральное Spectrol ATF Dexron III 4л',\n",
       " 'Масло трансмиссионное минеральное Spectrol ATF Dextron II 4л',\n",
       " 'Масло трансмиссионное минеральное Yamaha Yamalube 4 90790BS45200 10W-40 SJ 4л',\n",
       " 'Масло трансмиссионное минеральное Yamaha Yamalube Gear Oil 90790BS80700 90W GL-4 0.75л']"
      ]
     },
     "execution_count": 190,
     "metadata": {},
     "output_type": "execute_result"
    }
   ],
   "source": [
    "ref_df['description'].values[:100].tolist()"
   ]
  },
  {
   "cell_type": "code",
   "execution_count": 173,
   "id": "9d8df9b3",
   "metadata": {
    "cellId": "1uuiq1k7otyol1ehdmpb7"
   },
   "outputs": [
    {
     "ename": "KeyError",
     "evalue": "102",
     "output_type": "error",
     "traceback": [
      "\u001b[0;31m---------------------------------------------------------------------------\u001b[0m",
      "\u001b[0;31mKeyError\u001b[0m                                  Traceback (most recent call last)",
      "\u001b[0;32m<ipython-input-126-0be8daf8e3b8>\u001b[0m in \u001b[0;36m<module>\u001b[0;34m\u001b[0m\n\u001b[0;32m----> 1\u001b[0;31m \u001b[0mtokenizer\u001b[0m\u001b[0;34m.\u001b[0m\u001b[0mvocab\u001b[0m\u001b[0;34m[\u001b[0m\u001b[0;36m102\u001b[0m\u001b[0;34m]\u001b[0m\u001b[0;34m\u001b[0m\u001b[0;34m\u001b[0m\u001b[0m\n\u001b[0m\u001b[1;32m      2\u001b[0m \u001b[0;31m#\u001b[0m\u001b[0;34m\u001b[0m\u001b[0;34m\u001b[0m\u001b[0;34m\u001b[0m\u001b[0m\n",
      "\u001b[0;31mKeyError\u001b[0m: 102"
     ]
    }
   ],
   "source": [
    "tokenizer.vocab[102]"
   ]
  },
  {
   "cell_type": "code",
   "execution_count": 205,
   "id": "b2e10cea",
   "metadata": {
    "cellId": "rsablo2uweszarf39nksp"
   },
   "outputs": [
    {
     "ename": "SyntaxError",
     "evalue": "invalid syntax (<ipython-input-158-bfd5aa65a2ee>, line 1)",
     "output_type": "error",
     "traceback": [
      "\u001b[0;36m  File \u001b[0;32m\"<ipython-input-158-bfd5aa65a2ee>\"\u001b[0;36m, line \u001b[0;32m1\u001b[0m\n\u001b[0;31m    кароч у меня вот что вышло:\u001b[0m\n\u001b[0m          ^\u001b[0m\n\u001b[0;31mSyntaxError\u001b[0m\u001b[0;31m:\u001b[0m invalid syntax\n"
     ]
    }
   ],
   "source": [
    "кароч у меня вот что вышло:\n",
    "- токены все распознаются, в смысле что нет UNK\n",
    "- у меня получилось что sbert находит нужный элемент или на первом месте, или не распознает вообще. Надо порисерчить что там за штуки на которых он фейлится"
   ]
  },
  {
   "cell_type": "code",
   "execution_count": 0,
   "id": "b6b0f352",
   "metadata": {
    "cellId": "vb5k22zf417ppxdgerjpa"
   },
   "outputs": [],
   "source": []
  }
 ],
 "metadata": {
  "language_info": {
   "codemirror_mode": {
    "name": "ipython",
    "version": 3
   },
   "file_extension": ".py",
   "mimetype": "text/x-python",
   "name": "python",
   "nbconvert_exporter": "python",
   "pygments_lexer": "ipython3",
   "version": "3.7.7"
  },
  "notebookId": "567dffe5-c968-456d-adcc-0be4b1f9bcf7",
  "notebookPath": "1_raw_sbert.ipynb"
 },
 "nbformat": 4,
 "nbformat_minor": 5
}
