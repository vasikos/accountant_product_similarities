{
 "cells": [
  {
   "cell_type": "code",
   "execution_count": 2,
   "id": "6081ac03",
   "metadata": {
    "cellId": "ovf7da0f0u6hdnjoksun"
   },
   "outputs": [],
   "source": [
    "import pandas as pd"
   ]
  },
  {
   "cell_type": "code",
   "execution_count": 3,
   "id": "a352c4c8",
   "metadata": {
    "cellId": "lt99217z86onslprx264"
   },
   "outputs": [],
   "source": [
    "ref = pd.read_csv('reference.csv')\n",
    "train = pd.read_csv('train.csv', sep='\\t')"
   ]
  },
  {
   "cell_type": "code",
   "execution_count": 4,
   "id": "0e97eddb",
   "metadata": {
    "cellId": "iu5gppg7ave1z474z8xcu"
   },
   "outputs": [
    {
     "data": {
      "text/plain": [
       "((299640, 10), (62605, 4))"
      ]
     },
     "execution_count": 4,
     "metadata": {},
     "output_type": "execute_result"
    }
   ],
   "source": [
    "ref.shape, train.shape"
   ]
  },
  {
   "cell_type": "code",
   "execution_count": 5,
   "id": "645704d8",
   "metadata": {
    "cellId": "wmtrztf59qhoybwal1p79f"
   },
   "outputs": [],
   "source": [
    "good_ref = ~ref['description'].isna()\n",
    "good_train = (~train['description'].isna()) & (~train['supplier_name'].isna())"
   ]
  },
  {
   "cell_type": "code",
   "execution_count": 6,
   "id": "43180ab8",
   "metadata": {
    "cellId": "dnv7z2trxy9q29kbqgfpel"
   },
   "outputs": [
    {
     "data": {
      "text/plain": [
       "((294106, 10), (46053, 4))"
      ]
     },
     "execution_count": 6,
     "metadata": {},
     "output_type": "execute_result"
    }
   ],
   "source": [
    "ref[good_ref].shape, train[good_train].shape"
   ]
  },
  {
   "cell_type": "code",
   "execution_count": 7,
   "id": "c84b8df3",
   "metadata": {
    "cellId": "xb8nf9zj29bq8arsofsuz"
   },
   "outputs": [],
   "source": [
    "vgood_train = good_train & train['description'].isin(ref['description'])"
   ]
  },
  {
   "cell_type": "code",
   "execution_count": 8,
   "id": "ade87dbf",
   "metadata": {
    "cellId": "4ugx2c2ohl32lgainkr171"
   },
   "outputs": [
    {
     "data": {
      "text/plain": [
       "((294106, 10), (42101, 4))"
      ]
     },
     "execution_count": 8,
     "metadata": {},
     "output_type": "execute_result"
    }
   ],
   "source": [
    "ref[good_ref].shape, train[vgood_train].shape"
   ]
  },
  {
   "cell_type": "code",
   "execution_count": null,
   "id": "5ce07914",
   "metadata": {
    "cellId": "rb2w3oqcwa684fasjmw3y"
   },
   "outputs": [],
   "source": []
  },
  {
   "cell_type": "code",
   "execution_count": 19,
   "id": "0693526e",
   "metadata": {
    "cellId": "hzy3vlv356ia83ga7w154f"
   },
   "outputs": [],
   "source": [
    "duplicates = ref['description'].duplicated()"
   ]
  },
  {
   "cell_type": "code",
   "execution_count": 20,
   "id": "e4522c61",
   "metadata": {
    "cellId": "aueke1h29laz13jyxncei"
   },
   "outputs": [],
   "source": [
    "clean_ref = ref[good_ref & (~duplicates)].reset_index(drop=True).drop(['Unnamed: 0'], axis=1)\n",
    "clean_ref.to_csv('clean_ref.csv', index=False)\n",
    "# clean_ref.to_parquet('clean_ref.parquet')"
   ]
  },
  {
   "cell_type": "code",
   "execution_count": 21,
   "id": "9d2cb5ae",
   "metadata": {
    "cellId": "jjexj0xgqxgoom1q07n15g"
   },
   "outputs": [],
   "source": [
    "clean_train = train[vgood_train].reset_index(drop=True).drop(['Unnamed: 0'], axis=1)\n",
    "clean_train.to_csv('clean_train.csv', index=False)"
   ]
  },
  {
   "cell_type": "code",
   "execution_count": 22,
   "id": "a102e345",
   "metadata": {
    "cellId": "ls4c1dvrkfh2ooxf95rxsj"
   },
   "outputs": [
    {
     "name": "stdout",
     "output_type": "stream",
     "text": [
      "code             1.0\n",
      "description      1.0\n",
      "supplier_name    1.0\n",
      "dtype: float64\n",
      "group_code          1.0\n",
      "group_desc          1.0\n",
      "subgroup_code       1.0\n",
      "subgroup_desc       1.0\n",
      "base_code           1.0\n",
      "base_code_desc      1.0\n",
      "code                1.0\n",
      "description         1.0\n",
      "long_description    1.0\n",
      "dtype: float64\n"
     ]
    }
   ],
   "source": [
    "print((clean_train == pd.read_csv('clean_train.csv')).mean())\n",
    "print((clean_ref == pd.read_csv('clean_ref.csv')).mean())"
   ]
  },
  {
   "cell_type": "code",
   "execution_count": null,
   "id": "639838eb",
   "metadata": {
    "cellId": "e6ygygcrzhu151zqsj8jrz"
   },
   "outputs": [],
   "source": []
  }
 ],
 "metadata": {
  "language_info": {
   "codemirror_mode": {
    "name": "ipython",
    "version": 3
   },
   "file_extension": ".py",
   "mimetype": "text/x-python",
   "name": "python",
   "nbconvert_exporter": "python",
   "pygments_lexer": "ipython3",
   "version": "3.7.7"
  },
  "notebookId": "acf51eb7-ef01-4984-b0ed-0bb62de213ab",
  "notebookPath": "0_1_simple_cleaning.ipynb"
 },
 "nbformat": 4,
 "nbformat_minor": 5
}
