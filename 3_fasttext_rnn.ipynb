{
 "cells": [
  {
   "cell_type": "code",
   "execution_count": 104,
   "id": "114cba34",
   "metadata": {
    "cellId": "v7udrx72vasht04y9nm87"
   },
   "outputs": [],
   "source": [
    "import pandas as pd\n",
    "import numpy as np\n",
    "\n",
    "import matplotlib.pyplot as plt\n",
    "\n",
    "import re\n",
    "\n",
    "import faiss\n",
    "from gensim.models.fasttext import FastText\n",
    "from gensim.models.callbacks import CallbackAny2Vec\n",
    "\n",
    "import torch\n",
    "from torch.optim import Adam\n",
    "from torch.nn.utils.rnn import pad_sequence\n",
    "from torch.utils.data import Dataset, DataLoader"
   ]
  },
  {
   "cell_type": "code",
   "execution_count": null,
   "id": "ac742c15",
   "metadata": {
    "cellId": "pjzcgfm04rec452wzezr6q"
   },
   "outputs": [],
   "source": []
  },
  {
   "cell_type": "code",
   "execution_count": 6,
   "id": "a2f20314",
   "metadata": {
    "cellId": "0nbl6cvjw0fb88zvvrmauhs"
   },
   "outputs": [],
   "source": [
    "TRAIN_RATIO = 0.8\n",
    "TRAIN_SPLIT_SEED = 0"
   ]
  },
  {
   "cell_type": "code",
   "execution_count": null,
   "id": "cbad6225",
   "metadata": {
    "cellId": "wqbty89la2czhha5p90vh"
   },
   "outputs": [],
   "source": []
  },
  {
   "cell_type": "code",
   "execution_count": null,
   "id": "dfeafc6e",
   "metadata": {
    "cellId": "n21fhnzxchmjwmepy70h3"
   },
   "outputs": [],
   "source": []
  },
  {
   "cell_type": "code",
   "execution_count": 7,
   "id": "c114166b",
   "metadata": {
    "cellId": "ik72o4xqcnn8lxp77f5ex4"
   },
   "outputs": [],
   "source": [
    "ref = pd.read_csv('clean_ref.csv')\n",
    "pairs = pd.read_csv('clean_train.csv')\n",
    "\n",
    "TRAIN_RATIO = 0.8\n",
    "TRAIN_SPLIT_SEED = 0\n",
    "\n",
    "np.random.seed(TRAIN_SPLIT_SEED)\n",
    "train = np.random.rand(pairs.shape[0]) < TRAIN_RATIO\n",
    "pairs_train = pairs[train]\n",
    "pairs_test = pairs[~train]"
   ]
  },
  {
   "cell_type": "code",
   "execution_count": 8,
   "id": "28822868",
   "metadata": {
    "cellId": "1x7x6bv1gpv5ynaqymjj5h"
   },
   "outputs": [],
   "source": [
    "# https://github.com/gorodion/Goods-Classifier/blob/master/summary.ipynb\n",
    "\n",
    "def normalize(ser: pd.Series):\n",
    "#   \"СокДобрый\" -> \"Сок Добрый\"\n",
    "    camel_case_pat = re.compile(r'([а-яa-z])([А-ЯA-Z])')\n",
    "# #   \"lmno\" -> \"лмно\"\n",
    "#     trans_table = make_trans()\n",
    "# #   \"14х15х30\" -> \"DxDxD\"\n",
    "#     dxdxd_pat = re.compile(r'((?:\\d+\\s*[х\\*]\\s*){2}\\d+)')\n",
    "#   \"1.2 15,5\" -> \"1p2 15p5\"  \n",
    "    digit_pat = re.compile(r'(\\d+)[\\.,](\\d+)')\n",
    "#   \"15 мл\" -> \"15мл\"\n",
    "    unit = 'мг|г|гр|кг|мл|л|шт'\n",
    "    unit_pat = re.compile(fr'((?:\\d+p)?\\d+)\\s*({unit})\\b')\n",
    "# #   \"ж/б ст/б\" -> \"жб стб\"\n",
    "#     w_w_pat = re.compile(r'\\b([а-я]{1,2})/([а-я]{1,2})\\b')\n",
    "# #   \"a b c d\" -> \"abcd\"\n",
    "#     glue_pat = re.compile(r'(?<=(?<!\\w)\\w) (?=\\w(?!\\w))', re.UNICODE)\n",
    "    \n",
    "    return ser \\\n",
    "            .str.replace(camel_case_pat, r'\\1 \\2', regex=True) \\\n",
    "            .str.lower() \\\n",
    "            .str.replace(r'ъ\\b', '', regex=True) \\\n",
    "            .str.replace('№', ' NUM ') \\\n",
    "            .str.replace('%', ' PERC ') \\\n",
    "            .str.replace(digit_pat, r' \\1p\\2 ', regex=True) \\\n",
    "            .str.replace(unit_pat, r' \\1\\2 ', regex=True) \\\n",
    "            .str.replace(r'[\\W_]', ' ', regex=True)"
   ]
  },
  {
   "cell_type": "code",
   "execution_count": null,
   "id": "e1a5cc73",
   "metadata": {
    "cellId": "dotwgg4z1bh7uckulspsbq"
   },
   "outputs": [],
   "source": []
  },
  {
   "cell_type": "code",
   "execution_count": 11,
   "id": "2858a51b",
   "metadata": {
    "cellId": "my5jmpl5tml6d3omea4gl7"
   },
   "outputs": [
    {
     "name": "stderr",
     "output_type": "stream",
     "text": [
      "<ipython-input-11-98dd118bd246>:4: SettingWithCopyWarning: \n",
      "A value is trying to be set on a copy of a slice from a DataFrame.\n",
      "Try using .loc[row_indexer,col_indexer] = value instead\n",
      "\n",
      "See the caveats in the documentation: https://pandas.pydata.org/pandas-docs/stable/user_guide/indexing.html#returning-a-view-versus-a-copy\n",
      "  df['norm_desc'] = normalize(df['description'])\n",
      "<ipython-input-11-98dd118bd246>:5: SettingWithCopyWarning: \n",
      "A value is trying to be set on a copy of a slice from a DataFrame.\n",
      "Try using .loc[row_indexer,col_indexer] = value instead\n",
      "\n",
      "See the caveats in the documentation: https://pandas.pydata.org/pandas-docs/stable/user_guide/indexing.html#returning-a-view-versus-a-copy\n",
      "  df['norm_supp'] = normalize(df['supplier_name'])\n",
      "<ipython-input-11-98dd118bd246>:4: SettingWithCopyWarning: \n",
      "A value is trying to be set on a copy of a slice from a DataFrame.\n",
      "Try using .loc[row_indexer,col_indexer] = value instead\n",
      "\n",
      "See the caveats in the documentation: https://pandas.pydata.org/pandas-docs/stable/user_guide/indexing.html#returning-a-view-versus-a-copy\n",
      "  df['norm_desc'] = normalize(df['description'])\n",
      "<ipython-input-11-98dd118bd246>:5: SettingWithCopyWarning: \n",
      "A value is trying to be set on a copy of a slice from a DataFrame.\n",
      "Try using .loc[row_indexer,col_indexer] = value instead\n",
      "\n",
      "See the caveats in the documentation: https://pandas.pydata.org/pandas-docs/stable/user_guide/indexing.html#returning-a-view-versus-a-copy\n",
      "  df['norm_supp'] = normalize(df['supplier_name'])\n"
     ]
    }
   ],
   "source": [
    "ref['norm_desc'] = normalize(ref['description'])\n",
    "\n",
    "for df in [pairs_train, pairs_test]:\n",
    "    df['norm_desc'] = normalize(df['description'])\n",
    "    df['norm_supp'] = normalize(df['supplier_name'])"
   ]
  },
  {
   "cell_type": "code",
   "execution_count": 9,
   "id": "f4f87150",
   "metadata": {
    "cellId": "bkzd6mt7cuegqxtgkezxgj"
   },
   "outputs": [
    {
     "data": {
      "text/html": [
       "<div>\n",
       "<style scoped>\n",
       "    .dataframe tbody tr th:only-of-type {\n",
       "        vertical-align: middle;\n",
       "    }\n",
       "\n",
       "    .dataframe tbody tr th {\n",
       "        vertical-align: top;\n",
       "    }\n",
       "\n",
       "    .dataframe thead th {\n",
       "        text-align: right;\n",
       "    }\n",
       "</style>\n",
       "<table border=\"1\" class=\"dataframe\">\n",
       "  <thead>\n",
       "    <tr style=\"text-align: right;\">\n",
       "      <th></th>\n",
       "      <th>code</th>\n",
       "      <th>description</th>\n",
       "      <th>supplier_name</th>\n",
       "    </tr>\n",
       "  </thead>\n",
       "  <tbody>\n",
       "    <tr>\n",
       "      <th>0</th>\n",
       "      <td>065.8000.3296</td>\n",
       "      <td>Телевизор LED LG 43US662H Direct LED 43\"</td>\n",
       "      <td>Телевизор 43US662H</td>\n",
       "    </tr>\n",
       "    <tr>\n",
       "      <th>1</th>\n",
       "      <td>065.8000.3297</td>\n",
       "      <td>Телевизор LED LG 50US662H 50\"</td>\n",
       "      <td>Телевизор 50US662H</td>\n",
       "    </tr>\n",
       "    <tr>\n",
       "      <th>2</th>\n",
       "      <td>066.5602.2128</td>\n",
       "      <td>Коммутатор управляемый Eltex MES2348B RS-232, ...</td>\n",
       "      <td>MES2348B_AC Ethernet-коммутатор MES2348B, 48 п...</td>\n",
       "    </tr>\n",
       "    <tr>\n",
       "      <th>3</th>\n",
       "      <td>035.7800.H271</td>\n",
       "      <td>Кабель прямого соединения активный 1м SFP+ - S...</td>\n",
       "      <td>FH-DP1T30SS01 SFP+ Direct attach cable, 10G, 1m</td>\n",
       "    </tr>\n",
       "    <tr>\n",
       "      <th>4</th>\n",
       "      <td>066.5602.2127</td>\n",
       "      <td>Коммутатор управляемый Eltex MES2324B RS-232, ...</td>\n",
       "      <td>MES2324B_AC Ethernet-коммутатор MES2324B, 24 п...</td>\n",
       "    </tr>\n",
       "    <tr>\n",
       "      <th>...</th>\n",
       "      <td>...</td>\n",
       "      <td>...</td>\n",
       "      <td>...</td>\n",
       "    </tr>\n",
       "    <tr>\n",
       "      <th>42096</th>\n",
       "      <td>045.9000.G183</td>\n",
       "      <td>Замок (автотранспорт) двери передней, правый A...</td>\n",
       "      <td>ЗАМОК ДВЕРИ ПРАВЫЙ ОАО ГАЗ А21R23.6105012</td>\n",
       "    </tr>\n",
       "    <tr>\n",
       "      <th>42097</th>\n",
       "      <td>045.9000.G149</td>\n",
       "      <td>Защелка 2705.8213109 автомобиль ГАЗ</td>\n",
       "      <td>ЗАЩЕЛКА ЗАМКА ПР ОАО ГАЗ 2705.8213109</td>\n",
       "    </tr>\n",
       "    <tr>\n",
       "      <th>42098</th>\n",
       "      <td>045.9000.G160</td>\n",
       "      <td>Защелка 2705-8213110 автомобиль ГАЗ</td>\n",
       "      <td>ЗАЩЕЛКА ЗАМКА ЛЕВ ОАО ГАЗ 2705.8213110</td>\n",
       "    </tr>\n",
       "    <tr>\n",
       "      <th>42099</th>\n",
       "      <td>045.9000.G184</td>\n",
       "      <td>Замок (автотранспорт) двери передней, правый A...</td>\n",
       "      <td>ЗАМОК ДВЕРИ ЛЕВЫЙ ОАО ГАЗ А21R23.6105013</td>\n",
       "    </tr>\n",
       "    <tr>\n",
       "      <th>42100</th>\n",
       "      <td>045.7000.H845</td>\n",
       "      <td>Щетка стеклоочистителя СЛ136Е-5205900 автомоби...</td>\n",
       "      <td>ЩЕТКА СТЕКЛООЧИСТ. ОАО ГАЗ СЛ136Е-5205900</td>\n",
       "    </tr>\n",
       "  </tbody>\n",
       "</table>\n",
       "<p>42101 rows × 3 columns</p>\n",
       "</div>"
      ],
      "text/plain": [
       "                code  ...                                      supplier_name\n",
       "0      065.8000.3296  ...                                 Телевизор 43US662H\n",
       "1      065.8000.3297  ...                                 Телевизор 50US662H\n",
       "2      066.5602.2128  ...  MES2348B_AC Ethernet-коммутатор MES2348B, 48 п...\n",
       "3      035.7800.H271  ...    FH-DP1T30SS01 SFP+ Direct attach cable, 10G, 1m\n",
       "4      066.5602.2127  ...  MES2324B_AC Ethernet-коммутатор MES2324B, 24 п...\n",
       "...              ...  ...                                                ...\n",
       "42096  045.9000.G183  ...          ЗАМОК ДВЕРИ ПРАВЫЙ ОАО ГАЗ А21R23.6105012\n",
       "42097  045.9000.G149  ...              ЗАЩЕЛКА ЗАМКА ПР ОАО ГАЗ 2705.8213109\n",
       "42098  045.9000.G160  ...             ЗАЩЕЛКА ЗАМКА ЛЕВ ОАО ГАЗ 2705.8213110\n",
       "42099  045.9000.G184  ...           ЗАМОК ДВЕРИ ЛЕВЫЙ ОАО ГАЗ А21R23.6105013\n",
       "42100  045.7000.H845  ...          ЩЕТКА СТЕКЛООЧИСТ. ОАО ГАЗ СЛ136Е-5205900\n",
       "\n",
       "[42101 rows x 3 columns]"
      ]
     },
     "execution_count": 9,
     "metadata": {},
     "output_type": "execute_result"
    }
   ],
   "source": []
  },
  {
   "cell_type": "code",
   "execution_count": null,
   "id": "02d3a1b8",
   "metadata": {
    "cellId": "6i0y747c8xpluiy6x4xjo"
   },
   "outputs": [],
   "source": []
  },
  {
   "cell_type": "code",
   "execution_count": 14,
   "id": "909f5589",
   "metadata": {
    "cellId": "qb7zjyp1ykqm1kq14xiqe"
   },
   "outputs": [],
   "source": [
    "# class MyCallback(CallbackAny2Vec):\n",
    "#     '''Callback to print loss after each epoch.'''\n",
    "\n",
    "#     def __init__(self):\n",
    "#         self.epoch = 0\n",
    "\n",
    "#     def on_epoch_end(self, model):\n",
    "#         loss = model.get_latest_training_loss()\n",
    "#         print('Loss after epoch {}: {}'.format(self.epoch, loss))\n",
    "#         self.epoch += 1\n",
    "        \n",
    "model = FastText(\n",
    "    ref['norm_desc'].apply(lambda x: [w for w in x.split(' ') if len(w) > 0]),\n",
    "    vector_size=128,\n",
    "    window=5,\n",
    "    workers=12,\n",
    "    epochs=25,\n",
    "    sg=1,\n",
    "    bucket=400_000,\n",
    "#     callbacks=[MyCallback()]\n",
    ")"
   ]
  },
  {
   "cell_type": "code",
   "execution_count": 63,
   "id": "7b5b9f65",
   "metadata": {
    "cellId": "vnyxlms5m8lwwwrk91sba"
   },
   "outputs": [],
   "source": [
    "model.save('2_fasttext/ft_128_25e.model')"
   ]
  },
  {
   "cell_type": "code",
   "execution_count": 44,
   "id": "765db141",
   "metadata": {
    "cellId": "giq9q4s8mpwy768mrt369"
   },
   "outputs": [],
   "source": [
    "rnn = torch.nn.LSTM(input_size=128, hidden_size=128, num_layers=3, bidirectional=True)"
   ]
  },
  {
   "cell_type": "code",
   "execution_count": 45,
   "id": "15507ab2",
   "metadata": {
    "cellId": "90hijylkfiu67n8y7mw443"
   },
   "outputs": [
    {
     "data": {
      "text/plain": [
       "'кабель hdmi premium high speed не менее  2p0   не менее  1p5 м  '"
      ]
     },
     "execution_count": 45,
     "metadata": {},
     "output_type": "execute_result"
    }
   ],
   "source": [
    "pairs_train['norm_supp'].values[10]"
   ]
  },
  {
   "cell_type": "code",
   "execution_count": 21,
   "id": "ee7cbd98",
   "metadata": {
    "cellId": "axhm87ni9yctj80v4tinw"
   },
   "outputs": [],
   "source": [
    "sent = ['кабель hdmi premium high speed не менее  2p0   не менее  1p5 м  ']"
   ]
  },
  {
   "cell_type": "code",
   "execution_count": 26,
   "id": "a9386f33",
   "metadata": {
    "cellId": "o8xb4je1gjatlnk9fd2y9"
   },
   "outputs": [],
   "source": [
    "def get_embeddings(wv, sent):\n",
    "    words = [x for x in sent.split(' ') if len(x) > 0]\n",
    "    return np.vstack([wv[word] for word in words])"
   ]
  },
  {
   "cell_type": "code",
   "execution_count": 29,
   "id": "954e5878",
   "metadata": {
    "cellId": "vxf7a6l6rn8hh25adxcdyj"
   },
   "outputs": [],
   "source": [
    "emb = get_embeddings(model.wv, sent[0])"
   ]
  },
  {
   "cell_type": "code",
   "execution_count": 85,
   "id": "bf7b4ffe",
   "metadata": {
    "cellId": "ubqdfo8w2rnw9q20j9j6i"
   },
   "outputs": [],
   "source": [
    "\n",
    "\n",
    "class PhrasesDataset(Dataset):\n",
    "    def __init__(self, train_df, wv_model):\n",
    "        self.queries = train_df['norm_supp'].values\n",
    "        self.true_ans = train_df['norm_desc'].values\n",
    "        self.wv_model = wv_model\n",
    "\n",
    "    def __len__(self):\n",
    "        return len(self.true_ans)\n",
    "\n",
    "    def __getitem__(self, idx):\n",
    "        query = get_embeddings(self.wv_model, self.queries[idx])\n",
    "        true_ans = get_embeddings(self.wv_model, self.true_ans[idx])\n",
    "        false_idx = np.random.randint(0, len(self.true_ans))\n",
    "\n",
    "        false_ans = get_embeddings(self.wv_model, self.true_ans[false_idx])\n",
    "\n",
    "        return torch.tensor(query), torch.tensor(true_ans), torch.tensor(false_ans)"
   ]
  },
  {
   "cell_type": "code",
   "execution_count": 74,
   "id": "2778c9fb",
   "metadata": {
    "cellId": "xzylf0njczq6cvjtsfohr"
   },
   "outputs": [],
   "source": []
  },
  {
   "cell_type": "code",
   "execution_count": null,
   "id": "0837f1f1",
   "metadata": {
    "cellId": "yihdb5ymguf1t2legaeto5"
   },
   "outputs": [],
   "source": []
  },
  {
   "cell_type": "code",
   "execution_count": null,
   "id": "b90aa30e",
   "metadata": {
    "cellId": "e6z84xdi1p5dp6she8g5ke"
   },
   "outputs": [],
   "source": []
  },
  {
   "cell_type": "code",
   "execution_count": 94,
   "id": "ef6a5b8b",
   "metadata": {
    "cellId": "neu8lqsito0cpk41sdm56"
   },
   "outputs": [
    {
     "data": {
      "text/plain": [
       "torch.Size([20, 16, 128])"
      ]
     },
     "execution_count": 94,
     "metadata": {},
     "output_type": "execute_result"
    }
   ],
   "source": []
  },
  {
   "cell_type": "code",
   "execution_count": 231,
   "id": "e1617ae6",
   "metadata": {
    "cellId": "jf77n5opf5qp1fjtglvz3n"
   },
   "outputs": [],
   "source": [
    "\n",
    "\n",
    "def my_collator(x):\n",
    "    l = len(x[0])\n",
    "    return [pad_sequence([x_[i] for x_ in x]) for i in range(l)]\n",
    "\n",
    "ds = PhrasesDataset(pairs_train, model.wv)\n",
    "training_loader = DataLoader(ds, batch_size=BATCH_SIZE, collate_fn=my_collator)\n",
    "loss_fn = torch.nn.CosineEmbeddingLoss(reduction='sum')\n",
    "\n",
    "optimizer = Adam(rnn.parameters(), lr=0.0001)\n",
    "\n",
    "def train_one_epoch(rnn, training_loader, optimizer, loss_fn):\n",
    "    losses = []\n",
    "    running_loss = 0.\n",
    "    last_loss = 0.\n",
    "\n",
    "    for i, data in enumerate(training_loader):\n",
    "        qs, ta, fa = data\n",
    "\n",
    "        optimizer.zero_grad()\n",
    "\n",
    "        # Make predictions for this batch\n",
    "        q_emb = rnn(qs)[1][0][-1, :, :]\n",
    "        t_emb = rnn(ta)[1][0][-1, :, :]\n",
    "        f_emb = rnn(fa)[1][0][-1, :, :]\n",
    "        \n",
    "        \n",
    "        \n",
    "        # Compute the loss and its gradients\n",
    "        loss_pos = loss_fn(q_emb, t_emb, torch.ones(q_emb.shape[0]))\n",
    "        loss_neg = loss_fn(q_emb, f_emb, (-1) * torch.ones(q_emb.shape[0]))\n",
    "        \n",
    "        loss = loss_pos + 2*loss_neg\n",
    "        loss.backward()\n",
    "\n",
    "        # Adjust learning weights\n",
    "        optimizer.step()\n",
    "\n",
    "        # Gather data and report\n",
    "        running_loss += loss.item()\n",
    "        losses.append((loss_pos.item(), loss_neg.item()))\n",
    "        if i % 100 == 99:\n",
    "            last_loss = running_loss / 1000 # loss per batch\n",
    "            print('  batch {} loss_pos: {} loss_neg: {}'.format(i + 1, loss_pos.item(), loss_neg.item()))\n",
    "            running_loss = 0.\n",
    "\n",
    "    return losses"
   ]
  },
  {
   "cell_type": "code",
   "execution_count": 237,
   "id": "25d81dd7",
   "metadata": {
    "cellId": "t9n55ihjplbk7dv37ogoh"
   },
   "outputs": [
    {
     "name": "stdout",
     "output_type": "stream",
     "text": [
      "  batch 100 loss_pos: 44.42448043823242 loss_neg: 16.119279861450195\n",
      "  batch 200 loss_pos: 37.784156799316406 loss_neg: 12.260708808898926\n",
      "  batch 100 loss_pos: 28.851882934570312 loss_neg: 10.854279518127441\n",
      "  batch 200 loss_pos: 26.53734016418457 loss_neg: 12.022826194763184\n",
      "  batch 100 loss_pos: 20.819408416748047 loss_neg: 11.09994888305664\n",
      "  batch 200 loss_pos: 20.098783493041992 loss_neg: 11.918848037719727\n",
      "  batch 100 loss_pos: 17.531280517578125 loss_neg: 11.480088233947754\n",
      "  batch 200 loss_pos: 16.34326934814453 loss_neg: 14.255736351013184\n",
      "  batch 100 loss_pos: 14.343218803405762 loss_neg: 12.90694522857666\n",
      "  batch 200 loss_pos: 16.822023391723633 loss_neg: 9.847038269042969\n",
      "  batch 100 loss_pos: 12.99965763092041 loss_neg: 10.895750999450684\n",
      "  batch 200 loss_pos: 12.05395793914795 loss_neg: 7.393333435058594\n",
      "  batch 100 loss_pos: 12.240486145019531 loss_neg: 11.263832092285156\n",
      "  batch 200 loss_pos: 14.927499771118164 loss_neg: 12.416749954223633\n",
      "  batch 100 loss_pos: 13.361759185791016 loss_neg: 7.925861358642578\n",
      "  batch 200 loss_pos: 11.220476150512695 loss_neg: 10.287616729736328\n",
      "  batch 100 loss_pos: 12.663859367370605 loss_neg: 10.897820472717285\n",
      "  batch 200 loss_pos: 11.567991256713867 loss_neg: 9.735261917114258\n",
      "  batch 100 loss_pos: 11.929534912109375 loss_neg: 11.76226806640625\n",
      "  batch 200 loss_pos: 10.813352584838867 loss_neg: 13.04135513305664\n"
     ]
    },
    {
     "data": {
      "text/plain": [
       "[<matplotlib.lines.Line2D at 0x7fd527012a60>,\n",
       " <matplotlib.lines.Line2D at 0x7fd527012c70>]"
      ]
     },
     "execution_count": 237,
     "metadata": {},
     "output_type": "execute_result"
    },
    {
     "data": {
      "image/png": "[encoded data removed]",
      "text/plain": [
       "<Figure size 432x288 with 1 Axes>"
      ]
     },
     "metadata": {
      "needs_background": "light"
     },
     "output_type": "display_data"
    }
   ],
   "source": [
    "EPOCHS = 10\n",
    "BATCH_SIZE = 128\n",
    "\n",
    "rnn = torch.nn.LSTM(input_size=128, hidden_size=64, num_layers=1, bidirectional=True)\n",
    "ds = PhrasesDataset(pairs_train, model.wv)\n",
    "training_loader = DataLoader(ds, batch_size=BATCH_SIZE, collate_fn=my_collator, shuffle=True)\n",
    "loss_fn = torch.nn.CosineEmbeddingLoss(reduction='sum')\n",
    "\n",
    "optimizer = Adam(rnn.parameters(), lr=0.0001)\n",
    "\n",
    "\n",
    "losses = []\n",
    "for e in range(EPOCHS):\n",
    "    l = train_one_epoch(rnn, training_loader, optimizer, loss_fn)\n",
    "    losses.extend(l)\n",
    "    \n",
    "plt.plot(losses)"
   ]
  },
  {
   "cell_type": "code",
   "execution_count": 233,
   "id": "0329b53b",
   "metadata": {
    "cellId": "9mrq0s570c5c0fsmjpyse"
   },
   "outputs": [
    {
     "data": {
      "text/plain": [
       "[<matplotlib.lines.Line2D at 0x7fc289034370>]"
      ]
     },
     "execution_count": 233,
     "metadata": {},
     "output_type": "execute_result"
    },
    {
     "data": {
      "image/png": "[encoded data removed]",
      "text/plain": [
       "<Figure size 432x288 with 1 Axes>"
      ]
     },
     "metadata": {
      "needs_background": "light"
     },
     "output_type": "display_data"
    }
   ],
   "source": [
    "plt.plot([x[0] for x in losses])\n",
    "plt.plot([x[1] for x in losses])"
   ]
  },
  {
   "cell_type": "code",
   "execution_count": null,
   "id": "26c812cb",
   "metadata": {
    "cellId": "f2p89cat73uxcjrrk0r2hh"
   },
   "outputs": [],
   "source": []
  },
  {
   "cell_type": "code",
   "execution_count": null,
   "id": "55202d77",
   "metadata": {
    "cellId": "c1gakyrvd5egwbuiy0ntp"
   },
   "outputs": [],
   "source": []
  },
  {
   "cell_type": "code",
   "execution_count": 239,
   "id": "010b6136",
   "metadata": {
    "cellId": "f8lxxr7jbfr1st30forqmc"
   },
   "outputs": [],
   "source": [
    "class RefDataset(Dataset):\n",
    "    def __init__(self, train_df, cols, wv_model):\n",
    "        self.cols = cols\n",
    "        self.cols_vals = {}\n",
    "        for c in cols:\n",
    "            self.cols_vals[c] = train_df[c].values\n",
    "        self.wv_model = wv_model\n",
    "\n",
    "    def __len__(self):\n",
    "        some_col = self.cols[0]\n",
    "#         print(self.cols_vals)\n",
    "        col_vals = self.cols_vals[some_col]\n",
    "        return len(col_vals)\n",
    "\n",
    "    def __getitem__(self, idx):\n",
    "        ret = []\n",
    "        for c in self.cols:\n",
    "            ret.append(get_embeddings(self.wv_model, self.cols_vals[c][idx]))\n",
    "        return [torch.tensor(x) for x in ret]\n",
    "\n",
    "ref_ds = RefDataset(ref, ['norm_desc'], model.wv)\n",
    "ref_dl = DataLoader(ref_ds, batch_size=1024, collate_fn=my_collator)\n",
    "\n",
    "test_ds = RefDataset(pairs_test, ['norm_supp'], model.wv)\n",
    "test_dl = DataLoader(test_ds, batch_size=1024, collate_fn=my_collator)"
   ]
  },
  {
   "cell_type": "code",
   "execution_count": 253,
   "id": "a182139a",
   "metadata": {
    "cellId": "87n00uo32s55cyedm2s87m"
   },
   "outputs": [],
   "source": [
    "o = next(iter(ref_dl))"
   ]
  },
  {
   "cell_type": "code",
   "execution_count": 254,
   "id": "cfbadc55",
   "metadata": {
    "cellId": "hloyd0rbge0vfjb9lmdovd"
   },
   "outputs": [],
   "source": [
    "rnn_out = rnn(o[0])"
   ]
  },
  {
   "cell_type": "code",
   "execution_count": 259,
   "id": "991c284b",
   "metadata": {
    "cellId": "k4006u4fh9keu2atf59nhq"
   },
   "outputs": [
    {
     "data": {
      "text/plain": [
       "torch.Size([2, 1024, 64])"
      ]
     },
     "execution_count": 259,
     "metadata": {},
     "output_type": "execute_result"
    }
   ],
   "source": [
    "rnn_out[1][1].shape"
   ]
  },
  {
   "cell_type": "code",
   "execution_count": 252,
   "id": "5abeaec9",
   "metadata": {
    "cellId": "qncgt80adbkzgrxpjizvab"
   },
   "outputs": [
    {
     "data": {
      "text/plain": [
       "tensor([ 0.0685,  0.0214, -0.0079, -0.0259, -0.0182, -0.0642,  0.0314,  0.0711,\n",
       "        -0.0039,  0.0032,  0.0149,  0.0551, -0.0167, -0.0044,  0.0451,  0.0569,\n",
       "        -0.0172,  0.0626,  0.0169, -0.0029, -0.0061,  0.0103, -0.0541, -0.0325,\n",
       "         0.0242, -0.1169,  0.0223, -0.0378, -0.0019, -0.0830,  0.0421,  0.0957,\n",
       "        -0.0190, -0.0304,  0.0238, -0.0318,  0.0581, -0.0089,  0.0191, -0.0563,\n",
       "        -0.0060,  0.0218, -0.0906, -0.1022, -0.0463,  0.0038,  0.0319,  0.0809,\n",
       "        -0.0762,  0.0226, -0.0919,  0.0108, -0.0063, -0.0318, -0.0086,  0.0952,\n",
       "         0.0300,  0.0124, -0.0171, -0.0177,  0.0650,  0.0163, -0.0285,  0.0855],\n",
       "       grad_fn=<SliceBackward>)"
      ]
     },
     "execution_count": 252,
     "metadata": {},
     "output_type": "execute_result"
    }
   ],
   "source": [
    "o[0, 100, :]"
   ]
  },
  {
   "cell_type": "code",
   "execution_count": 212,
   "id": "a4c17934",
   "metadata": {
    "cellId": "gqu17mhdi0t8qv53gkymcb"
   },
   "outputs": [
    {
     "name": "stdout",
     "output_type": "stream",
     "text": [
      "293569\n"
     ]
    }
   ],
   "source": [
    "ref_embs = []\n",
    "for i, data in enumerate(ref_dl):\n",
    "    e = rnn(data[0])[0][-1, :, :].detach().numpy()\n",
    "    ref_embs.append(e)\n",
    "ref_embs = np.vstack(ref_embs)\n",
    "\n",
    "test_embs = []\n",
    "for i, data in enumerate(test_dl):\n",
    "    e = rnn(data[0])[0][-1, :, :].detach().numpy()\n",
    "    test_embs.append(e)\n",
    "test_embs = np.vstack(test_embs)\n",
    "\n",
    "\n",
    "\n",
    "index = faiss.IndexFlatIP(128)\n",
    "faiss.normalize_L2(ref_embs)\n",
    "index.add(ref_embs)\n",
    "print(index.ntotal)\n",
    "\n",
    "\n",
    "N = 10\n",
    "\n",
    "faiss.normalize_L2(test_embs)\n",
    "dist, ids = index.search(test_embs, N)\n",
    "\n",
    "pairs_test[[f'best_{i}_dist' for i in range(N)]] = dist\n",
    "pairs_test[[f'best_{i}_item' for i in range(N)]] = ids"
   ]
  },
  {
   "cell_type": "code",
   "execution_count": 197,
   "id": "d9af8ae3",
   "metadata": {
    "cellId": "mjrkohwbzqm8blo9wh9oex"
   },
   "outputs": [
    {
     "data": {
      "text/plain": [
       "(293569, 128)"
      ]
     },
     "execution_count": 197,
     "metadata": {},
     "output_type": "execute_result"
    }
   ],
   "source": []
  },
  {
   "cell_type": "code",
   "execution_count": 194,
   "id": "5044630b",
   "metadata": {
    "cellId": "ef4zla5jou8b18d7ml8qhv"
   },
   "outputs": [
    {
     "ename": "ValueError",
     "evalue": "not enough values to unpack (expected 2, got 1)",
     "output_type": "error",
     "traceback": [
      "\u001b[0;31m---------------------------------------------------------------------------\u001b[0m",
      "\u001b[0;31mValueError\u001b[0m                                Traceback (most recent call last)",
      "\u001b[0;32m<ipython-input-151-69469c9a98f3>\u001b[0m in \u001b[0;36m<module>\u001b[0;34m\u001b[0m\n\u001b[0;32m----> 1\u001b[0;31m \u001b[0mdist\u001b[0m\u001b[0;34m,\u001b[0m \u001b[0mids\u001b[0m \u001b[0;34m=\u001b[0m \u001b[0mindex\u001b[0m\u001b[0;34m.\u001b[0m\u001b[0msearch\u001b[0m\u001b[0;34m(\u001b[0m\u001b[0mtest_embs\u001b[0m\u001b[0;34m[\u001b[0m\u001b[0;36m0\u001b[0m\u001b[0;34m,\u001b[0m \u001b[0;34m:\u001b[0m\u001b[0;34m]\u001b[0m\u001b[0;34m,\u001b[0m \u001b[0mN\u001b[0m\u001b[0;34m)\u001b[0m\u001b[0;34m\u001b[0m\u001b[0;34m\u001b[0m\u001b[0m\n\u001b[0m\u001b[1;32m      2\u001b[0m \u001b[0;31m#\u001b[0m\u001b[0;34m\u001b[0m\u001b[0;34m\u001b[0m\u001b[0;34m\u001b[0m\u001b[0m\n",
      "\u001b[0;32m~/.local/lib/python3.8/site-packages/faiss/__init__.py\u001b[0m in \u001b[0;36mreplacement_search\u001b[0;34m(self, x, k, D, I)\u001b[0m\n\u001b[1;32m    305\u001b[0m         \"\"\"\n\u001b[1;32m    306\u001b[0m \u001b[0;34m\u001b[0m\u001b[0m\n\u001b[0;32m--> 307\u001b[0;31m         \u001b[0mn\u001b[0m\u001b[0;34m,\u001b[0m \u001b[0md\u001b[0m \u001b[0;34m=\u001b[0m \u001b[0mx\u001b[0m\u001b[0;34m.\u001b[0m\u001b[0mshape\u001b[0m\u001b[0;34m\u001b[0m\u001b[0;34m\u001b[0m\u001b[0m\n\u001b[0m\u001b[1;32m    308\u001b[0m         \u001b[0;32massert\u001b[0m \u001b[0md\u001b[0m \u001b[0;34m==\u001b[0m \u001b[0mself\u001b[0m\u001b[0;34m.\u001b[0m\u001b[0md\u001b[0m\u001b[0;34m\u001b[0m\u001b[0;34m\u001b[0m\u001b[0m\n\u001b[1;32m    309\u001b[0m \u001b[0;34m\u001b[0m\u001b[0m\n",
      "\u001b[0;31mValueError\u001b[0m: not enough values to unpack (expected 2, got 1)"
     ]
    }
   ],
   "source": []
  },
  {
   "cell_type": "code",
   "execution_count": 218,
   "id": "ee4c7124",
   "metadata": {
    "cellId": "azls18j39htsjss0j7aopd"
   },
   "outputs": [],
   "source": [
    "ref['index'] = ref.index\n",
    "pairs_test = pairs_test \\\n",
    "            .merge(ref[['index', 'description']], on='description') \\\n",
    "            .rename(columns={'index': 'reference_index'})"
   ]
  },
  {
   "cell_type": "code",
   "execution_count": 217,
   "id": "9094150b",
   "metadata": {
    "cellId": "43afgs4ec5i8il4gte91xh"
   },
   "outputs": [],
   "source": [
    "# pairs_test = pairs_test.drop('reference_index', axis=1)"
   ]
  },
  {
   "cell_type": "code",
   "execution_count": 219,
   "id": "3986c102",
   "metadata": {
    "cellId": "tfje7dblbfni5nzhdhxcpb"
   },
   "outputs": [
    {
     "data": {
      "text/plain": [
       "[<matplotlib.lines.Line2D at 0x7f0019065b20>]"
      ]
     },
     "execution_count": 219,
     "metadata": {},
     "output_type": "execute_result"
    },
    {
     "data": {
      "image/png": "[encoded data removed]",
      "text/plain": [
       "<Figure size 432x288 with 1 Axes>"
      ]
     },
     "metadata": {
      "needs_background": "light"
     },
     "output_type": "display_data"
    }
   ],
   "source": [
    "coinside = pairs_test['best_0_item'] == pairs_test['reference_index']\n",
    "res = [coinside.mean()]\n",
    "for i in range(1, 10):\n",
    "    coinside = coinside | (pairs_test[f'best_{i}_item'] == pairs_test['reference_index'])\n",
    "    res.append(coinside.mean())\n",
    "    \n",
    "plt.plot(res)"
   ]
  },
  {
   "cell_type": "code",
   "execution_count": 222,
   "id": "7cdab797",
   "metadata": {
    "cellId": "4g9yo7gikio0aaiz0dtl9da"
   },
   "outputs": [
    {
     "data": {
      "text/plain": [
       "[<matplotlib.lines.Line2D at 0x7fc2a31f4130>]"
      ]
     },
     "execution_count": 222,
     "metadata": {},
     "output_type": "execute_result"
    },
    {
     "data": {
      "image/png": "[encoded data removed]",
      "text/plain": [
       "<Figure size 432x288 with 1 Axes>"
      ]
     },
     "metadata": {
      "needs_background": "light"
     },
     "output_type": "display_data"
    }
   ],
   "source": [
    "confs = np.linspace(0, 1)\n",
    "acc = np.zeros_like(confs)\n",
    "rec = np.zeros_like(confs)\n",
    "\n",
    "for i, x in enumerate(confs):\n",
    "    conf_enough = pairs_test['best_0_dist'] < x\n",
    "    rec[i] = conf_enough.mean()\n",
    "    acc[i] = (pairs_test['best_0_item'] == pairs_test['reference_index'])[conf_enough].mean()\n",
    "    \n",
    "plt.plot(confs, acc)\n",
    "plt.plot(confs, rec)"
   ]
  },
  {
   "cell_type": "code",
   "execution_count": 221,
   "id": "ac5f9af9",
   "metadata": {
    "cellId": "6cduoc2ayd7dap6wcftwrt"
   },
   "outputs": [
    {
     "data": {
      "text/plain": [
       "<matplotlib.axes._subplots.AxesSubplot at 0x7f00182aadf0>"
      ]
     },
     "execution_count": 221,
     "metadata": {},
     "output_type": "execute_result"
    },
    {
     "data": {
      "image/png": "[encoded data removed]",
      "text/plain": [
       "<Figure size 432x288 with 1 Axes>"
      ]
     },
     "metadata": {
      "needs_background": "light"
     },
     "output_type": "display_data"
    }
   ],
   "source": [
    "pairs_test['best_0_dist'].hist(bins=100)"
   ]
  },
  {
   "cell_type": "code",
   "execution_count": null,
   "id": "356b7b8e",
   "metadata": {
    "cellId": "c3rtjtd5pqu8qmjqqocb"
   },
   "outputs": [],
   "source": []
  }
 ],
 "metadata": {
  "language_info": {
   "codemirror_mode": {
    "name": "ipython",
    "version": 3
   },
   "file_extension": ".py",
   "mimetype": "text/x-python",
   "name": "python",
   "nbconvert_exporter": "python",
   "pygments_lexer": "ipython3",
   "version": "3.7.7"
  },
  "notebookId": "a3587fd9-7c22-4dfe-8688-9ad2ac4e6e76",
  "notebookPath": "3_fasttext_rnn.ipynb"
 },
 "nbformat": 4,
 "nbformat_minor": 5
}
